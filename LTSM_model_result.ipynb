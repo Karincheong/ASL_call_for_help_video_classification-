{
  "cells": [
    {
      "cell_type": "markdown",
      "metadata": {
        "id": "view-in-github",
        "colab_type": "text"
      },
      "source": [
        "<a href=\"https://colab.research.google.com/github/Karincheong/Call-For-Help-American-Sign-Language-Recognition-Using-Deep-Learning-Model/blob/main/LTSM_model_result.ipynb\" target=\"_parent\"><img src=\"https://colab.research.google.com/assets/colab-badge.svg\" alt=\"Open In Colab\"/></a>"
      ]
    },
    {
      "cell_type": "code",
      "execution_count": null,
      "id": "586f4f74",
      "metadata": {
        "id": "586f4f74"
      },
      "outputs": [],
      "source": [
        "import os\n",
        "import numpy as np\n",
        "#from keras.preprocessing import image\n",
        "from keras.utils import load_img, img_to_array\n",
        "from keras.applications.inception_v3 import InceptionV3, preprocess_input\n",
        "from keras.models import Sequential\n",
        "from keras.layers import LSTM, Dense, Dropout\n",
        "from sklearn.model_selection import train_test_split\n",
        "from sklearn.preprocessing import LabelEncoder\n",
        "from keras.utils import np_utils\n",
        "from keras.models import load_model\n",
        "import pickle"
      ]
    },
    {
      "cell_type": "code",
      "execution_count": null,
      "id": "0b9f9571",
      "metadata": {
        "id": "0b9f9571"
      },
      "outputs": [],
      "source": [
        "with open('final_features.pickle', 'rb') as f:\n",
        "    X= pickle.load(f)\n",
        "\n",
        "with open('final_labels.pickle', 'rb') as l:\n",
        "    y= pickle.load(l)"
      ]
    },
    {
      "cell_type": "code",
      "execution_count": null,
      "id": "dd244a9f",
      "metadata": {
        "id": "dd244a9f"
      },
      "outputs": [],
      "source": [
        "# Shuffle the dataset\n",
        "indices = np.arange(len(X))\n",
        "np.random.shuffle(indices)\n",
        "X = [X[i] for i in indices]\n",
        "y = [y[i] for i in indices]"
      ]
    },
    {
      "cell_type": "code",
      "execution_count": null,
      "id": "959ec830",
      "metadata": {
        "id": "959ec830"
      },
      "outputs": [],
      "source": [
        "# Convert the labels to integers and one-hot encode them\n",
        "le = LabelEncoder()\n",
        "y = le.fit_transform(y)\n",
        "y = np_utils.to_categorical(y)"
      ]
    },
    {
      "cell_type": "code",
      "execution_count": null,
      "id": "51983ec6",
      "metadata": {
        "id": "51983ec6"
      },
      "outputs": [],
      "source": [
        "# Split the dataset into training and testing sets\n",
        "X_train, X_rem, y_train, y_rem = train_test_split(X, y, train_size=0.7, random_state=42)"
      ]
    },
    {
      "cell_type": "code",
      "execution_count": null,
      "id": "ffbf8067",
      "metadata": {
        "id": "ffbf8067"
      },
      "outputs": [],
      "source": [
        "X_val, X_test, y_val, y_test = train_test_split(X_rem,y_rem, test_size=0.5)"
      ]
    },
    {
      "cell_type": "code",
      "execution_count": null,
      "id": "238387da",
      "metadata": {
        "id": "238387da"
      },
      "outputs": [],
      "source": [
        "# Reshape the features into 3D tensors for input to LSTM\n",
        "X_train3 = np.expand_dims(X_train, axis=2)\n",
        "X_val3 = np.expand_dims(X_val, axis=2)\n",
        "X_test3 = np.expand_dims(X_test, axis=2)"
      ]
    },
    {
      "cell_type": "code",
      "execution_count": null,
      "id": "324b3df2",
      "metadata": {
        "id": "324b3df2"
      },
      "outputs": [],
      "source": [
        "X_train1 = np.array(X_train).reshape(len(X_train), 1, -1)\n",
        "X_val1 = np.array(X_val).reshape(len(X_val), 1, -1)\n",
        "X_test1 = np.array(X_test).reshape(len(X_test), 1, -1)"
      ]
    },
    {
      "cell_type": "code",
      "execution_count": null,
      "id": "00094d85",
      "metadata": {
        "id": "00094d85"
      },
      "outputs": [],
      "source": [
        "# Reshape the features into 3D tensors for input to LSTM\n",
        "X_train2 = np.reshape(X_train, (len(X_train), 1, -1))\n",
        "X_val2 = np.reshape(X_val, (len(X_val), 1, -1))\n",
        "X_test2 = np.reshape(X_test, (len(X_test), 1, -1))"
      ]
    },
    {
      "cell_type": "code",
      "execution_count": null,
      "id": "5862f520",
      "metadata": {
        "id": "5862f520"
      },
      "outputs": [],
      "source": [
        "#n_timesteps, n_features = 1, X_train[0].shape[0]"
      ]
    },
    {
      "cell_type": "code",
      "execution_count": null,
      "id": "c53a354e",
      "metadata": {
        "id": "c53a354e",
        "outputId": "985cb382-7727-4e4a-ecfa-ece51f326101"
      },
      "outputs": [
        {
          "data": {
            "text/plain": [
              "(1, 131072)"
            ]
          },
          "execution_count": 8,
          "metadata": {},
          "output_type": "execute_result"
        }
      ],
      "source": [
        "X_train2.shape[1:]"
      ]
    },
    {
      "cell_type": "code",
      "execution_count": null,
      "id": "903095d8",
      "metadata": {
        "id": "903095d8"
      },
      "outputs": [],
      "source": [
        "n_timesteps, n_features = X_train2.shape[1:]"
      ]
    },
    {
      "cell_type": "code",
      "execution_count": null,
      "id": "f2bdf75a",
      "metadata": {
        "id": "f2bdf75a"
      },
      "outputs": [],
      "source": [
        "\n",
        "n_classes = len(y_train[0])\n",
        "classifier = Sequential()\n",
        "classifier.add(LSTM(256, input_shape=(n_timesteps, n_features)))\n",
        "classifier.add(Dropout(0.5))\n",
        "classifier.add(Dense(n_classes, activation='softmax'))"
      ]
    },
    {
      "cell_type": "code",
      "execution_count": null,
      "id": "9136aace",
      "metadata": {
        "id": "9136aace"
      },
      "outputs": [],
      "source": [
        "# Compile the model with appropriate loss and metrics\n",
        "classifier.compile(optimizer='adam', loss='categorical_crossentropy', metrics=['accuracy'])"
      ]
    },
    {
      "cell_type": "code",
      "execution_count": null,
      "id": "0aa34e7a",
      "metadata": {
        "scrolled": true,
        "id": "0aa34e7a",
        "outputId": "46fad115-e53f-48a5-a401-47215bf4f543"
      },
      "outputs": [
        {
          "name": "stdout",
          "output_type": "stream",
          "text": [
            "Epoch 1/10\n",
            "153/153 [==============================] - 293s 2s/step - loss: 2.2681 - accuracy: 0.1524 - val_loss: 2.0996 - val_accuracy: 0.2242\n",
            "Epoch 2/10\n",
            "153/153 [==============================] - 280s 2s/step - loss: 2.2152 - accuracy: 0.1597 - val_loss: 2.1044 - val_accuracy: 0.2405\n",
            "Epoch 3/10\n",
            "153/153 [==============================] - 280s 2s/step - loss: 2.1748 - accuracy: 0.1745 - val_loss: 2.0914 - val_accuracy: 0.2109\n",
            "Epoch 4/10\n",
            "153/153 [==============================] - 287s 2s/step - loss: 2.1250 - accuracy: 0.1951 - val_loss: 2.0427 - val_accuracy: 0.3302\n",
            "Epoch 5/10\n",
            "153/153 [==============================] - 285s 2s/step - loss: 2.1250 - accuracy: 0.1964 - val_loss: 2.0405 - val_accuracy: 0.2586\n",
            "Epoch 6/10\n",
            "153/153 [==============================] - 271s 2s/step - loss: 2.1026 - accuracy: 0.2019 - val_loss: 2.0083 - val_accuracy: 0.3197\n",
            "Epoch 7/10\n",
            "153/153 [==============================] - 291s 2s/step - loss: 2.0432 - accuracy: 0.2252 - val_loss: 1.9801 - val_accuracy: 0.3387\n",
            "Epoch 8/10\n",
            "153/153 [==============================] - 303s 2s/step - loss: 2.0386 - accuracy: 0.2193 - val_loss: 1.9720 - val_accuracy: 0.3302\n",
            "Epoch 9/10\n",
            "153/153 [==============================] - 297s 2s/step - loss: 2.0089 - accuracy: 0.2397 - val_loss: 1.9101 - val_accuracy: 0.3578\n",
            "Epoch 10/10\n",
            "153/153 [==============================] - 294s 2s/step - loss: 2.0015 - accuracy: 0.2461 - val_loss: 1.9695 - val_accuracy: 0.3111\n"
          ]
        },
        {
          "data": {
            "text/plain": [
              "<keras.callbacks.History at 0x1d6481be410>"
            ]
          },
          "execution_count": 25,
          "metadata": {},
          "output_type": "execute_result"
        }
      ],
      "source": [
        "classifier.fit(X_train2, y_train, epochs=10, batch_size=32, validation_data=(X_val2, y_val))"
      ]
    },
    {
      "cell_type": "code",
      "execution_count": null,
      "id": "5734f7d0",
      "metadata": {
        "id": "5734f7d0"
      },
      "outputs": [],
      "source": [
        "from tensorflow.keras.callbacks import ModelCheckpoint"
      ]
    },
    {
      "cell_type": "code",
      "execution_count": null,
      "id": "3856290f",
      "metadata": {
        "id": "3856290f"
      },
      "outputs": [],
      "source": [
        "filepath=\"LTSM_weights-improvement-{epoch:02d}-{val_accuracy:.2f}.hdf5\"\n",
        "checkpoint = ModelCheckpoint(filepath, monitor='val_accuracy', verbose=1, save_best_only=True, mode='max')\n",
        "callbacks_list = [checkpoint]"
      ]
    },
    {
      "cell_type": "code",
      "execution_count": null,
      "id": "553ab726",
      "metadata": {
        "scrolled": true,
        "id": "553ab726",
        "outputId": "16d83e35-e892-4ca8-8c06-a1fa33cd50ec"
      },
      "outputs": [
        {
          "name": "stdout",
          "output_type": "stream",
          "text": [
            "Epoch 1/100\n",
            "153/153 [==============================] - ETA: 0s - loss: 1.9982 - accuracy: 0.2424\n",
            "Epoch 1: val_accuracy improved from -inf to 0.34924, saving model to LTSM_weights-improvement-01-0.35.hdf5\n",
            "153/153 [==============================] - 283s 2s/step - loss: 1.9982 - accuracy: 0.2424 - val_loss: 1.8948 - val_accuracy: 0.3492\n",
            "Epoch 2/100\n",
            "153/153 [==============================] - ETA: 0s - loss: 1.9801 - accuracy: 0.2526\n",
            "Epoch 2: val_accuracy improved from 0.34924 to 0.40363, saving model to LTSM_weights-improvement-02-0.40.hdf5\n",
            "153/153 [==============================] - 268s 2s/step - loss: 1.9801 - accuracy: 0.2526 - val_loss: 1.8871 - val_accuracy: 0.4036\n",
            "Epoch 3/100\n",
            "153/153 [==============================] - ETA: 0s - loss: 1.9342 - accuracy: 0.2718\n",
            "Epoch 3: val_accuracy did not improve from 0.40363\n",
            "153/153 [==============================] - 252s 2s/step - loss: 1.9342 - accuracy: 0.2718 - val_loss: 1.8575 - val_accuracy: 0.3931\n",
            "Epoch 4/100\n",
            "153/153 [==============================] - ETA: 0s - loss: 1.9227 - accuracy: 0.2757\n",
            "Epoch 4: val_accuracy improved from 0.40363 to 0.41698, saving model to LTSM_weights-improvement-04-0.42.hdf5\n",
            "153/153 [==============================] - 248s 2s/step - loss: 1.9227 - accuracy: 0.2757 - val_loss: 1.8005 - val_accuracy: 0.4170\n",
            "Epoch 5/100\n",
            "153/153 [==============================] - ETA: 0s - loss: 1.8934 - accuracy: 0.2898\n",
            "Epoch 5: val_accuracy improved from 0.41698 to 0.44943, saving model to LTSM_weights-improvement-05-0.45.hdf5\n",
            "153/153 [==============================] - 251s 2s/step - loss: 1.8934 - accuracy: 0.2898 - val_loss: 1.8344 - val_accuracy: 0.4494\n",
            "Epoch 6/100\n",
            "153/153 [==============================] - ETA: 0s - loss: 1.9077 - accuracy: 0.2835\n",
            "Epoch 6: val_accuracy did not improve from 0.44943\n",
            "153/153 [==============================] - 260s 2s/step - loss: 1.9077 - accuracy: 0.2835 - val_loss: 1.8551 - val_accuracy: 0.3693\n",
            "Epoch 7/100\n",
            "153/153 [==============================] - ETA: 0s - loss: 1.8674 - accuracy: 0.3105\n",
            "Epoch 7: val_accuracy improved from 0.44943 to 0.47519, saving model to LTSM_weights-improvement-07-0.48.hdf5\n",
            "153/153 [==============================] - 252s 2s/step - loss: 1.8674 - accuracy: 0.3105 - val_loss: 1.7106 - val_accuracy: 0.4752\n",
            "Epoch 8/100\n",
            "153/153 [==============================] - ETA: 0s - loss: 1.8734 - accuracy: 0.3087\n",
            "Epoch 8: val_accuracy did not improve from 0.47519\n",
            "153/153 [==============================] - 248s 2s/step - loss: 1.8734 - accuracy: 0.3087 - val_loss: 1.7697 - val_accuracy: 0.4208\n",
            "Epoch 9/100\n",
            "153/153 [==============================] - ETA: 0s - loss: 1.8141 - accuracy: 0.3152\n",
            "Epoch 9: val_accuracy did not improve from 0.47519\n",
            "153/153 [==============================] - 249s 2s/step - loss: 1.8141 - accuracy: 0.3152 - val_loss: 1.6977 - val_accuracy: 0.4284\n",
            "Epoch 10/100\n",
            "153/153 [==============================] - ETA: 0s - loss: 1.8055 - accuracy: 0.3238\n",
            "Epoch 10: val_accuracy did not improve from 0.47519\n",
            "153/153 [==============================] - 256s 2s/step - loss: 1.8055 - accuracy: 0.3238 - val_loss: 1.6678 - val_accuracy: 0.4733\n",
            "Epoch 11/100\n",
            "153/153 [==============================] - ETA: 0s - loss: 1.7870 - accuracy: 0.3428\n",
            "Epoch 11: val_accuracy did not improve from 0.47519\n",
            "153/153 [==============================] - 246s 2s/step - loss: 1.7870 - accuracy: 0.3428 - val_loss: 1.6394 - val_accuracy: 0.4695\n",
            "Epoch 12/100\n",
            "153/153 [==============================] - ETA: 0s - loss: 1.7702 - accuracy: 0.3479\n",
            "Epoch 12: val_accuracy did not improve from 0.47519\n",
            "153/153 [==============================] - 243s 2s/step - loss: 1.7702 - accuracy: 0.3479 - val_loss: 1.6409 - val_accuracy: 0.4599\n",
            "Epoch 13/100\n",
            "153/153 [==============================] - ETA: 0s - loss: 1.8051 - accuracy: 0.3219\n",
            "Epoch 13: val_accuracy did not improve from 0.47519\n",
            "153/153 [==============================] - 244s 2s/step - loss: 1.8051 - accuracy: 0.3219 - val_loss: 1.6583 - val_accuracy: 0.4590\n",
            "Epoch 14/100\n",
            "153/153 [==============================] - ETA: 0s - loss: 1.8001 - accuracy: 0.3291\n",
            "Epoch 14: val_accuracy improved from 0.47519 to 0.49332, saving model to LTSM_weights-improvement-14-0.49.hdf5\n",
            "153/153 [==============================] - 244s 2s/step - loss: 1.8001 - accuracy: 0.3291 - val_loss: 1.6553 - val_accuracy: 0.4933\n",
            "Epoch 15/100\n",
            "153/153 [==============================] - ETA: 0s - loss: 1.8181 - accuracy: 0.3240\n",
            "Epoch 15: val_accuracy did not improve from 0.49332\n",
            "153/153 [==============================] - 238s 2s/step - loss: 1.8181 - accuracy: 0.3240 - val_loss: 1.6373 - val_accuracy: 0.4885\n",
            "Epoch 16/100\n",
            "153/153 [==============================] - ETA: 0s - loss: 1.7794 - accuracy: 0.3373\n",
            "Epoch 16: val_accuracy improved from 0.49332 to 0.52385, saving model to LTSM_weights-improvement-16-0.52.hdf5\n",
            "153/153 [==============================] - 240s 2s/step - loss: 1.7794 - accuracy: 0.3373 - val_loss: 1.5865 - val_accuracy: 0.5239\n",
            "Epoch 17/100\n",
            "153/153 [==============================] - ETA: 0s - loss: 1.7312 - accuracy: 0.3631\n",
            "Epoch 17: val_accuracy did not improve from 0.52385\n",
            "153/153 [==============================] - 262s 2s/step - loss: 1.7312 - accuracy: 0.3631 - val_loss: 1.5431 - val_accuracy: 0.5076\n",
            "Epoch 18/100\n",
            "153/153 [==============================] - ETA: 0s - loss: 1.7448 - accuracy: 0.3559\n",
            "Epoch 18: val_accuracy improved from 0.52385 to 0.52481, saving model to LTSM_weights-improvement-18-0.52.hdf5\n",
            "153/153 [==============================] - 250s 2s/step - loss: 1.7448 - accuracy: 0.3559 - val_loss: 1.5731 - val_accuracy: 0.5248\n",
            "Epoch 19/100\n",
            "153/153 [==============================] - ETA: 0s - loss: 1.6910 - accuracy: 0.3815\n",
            "Epoch 19: val_accuracy did not improve from 0.52481\n",
            "153/153 [==============================] - 254s 2s/step - loss: 1.6910 - accuracy: 0.3815 - val_loss: 1.5643 - val_accuracy: 0.4933\n",
            "Epoch 20/100\n",
            "153/153 [==============================] - ETA: 0s - loss: 1.6707 - accuracy: 0.3909\n",
            "Epoch 20: val_accuracy did not improve from 0.52481\n",
            "153/153 [==============================] - 268s 2s/step - loss: 1.6707 - accuracy: 0.3909 - val_loss: 1.5442 - val_accuracy: 0.5010\n",
            "Epoch 21/100\n",
            "153/153 [==============================] - ETA: 0s - loss: 1.7220 - accuracy: 0.3596\n",
            "Epoch 21: val_accuracy improved from 0.52481 to 0.54771, saving model to LTSM_weights-improvement-21-0.55.hdf5\n",
            "153/153 [==============================] - 254s 2s/step - loss: 1.7220 - accuracy: 0.3596 - val_loss: 1.4914 - val_accuracy: 0.5477\n",
            "Epoch 22/100\n",
            "153/153 [==============================] - ETA: 0s - loss: 1.6628 - accuracy: 0.3796\n",
            "Epoch 22: val_accuracy did not improve from 0.54771\n",
            "153/153 [==============================] - 255s 2s/step - loss: 1.6628 - accuracy: 0.3796 - val_loss: 1.4880 - val_accuracy: 0.5468\n",
            "Epoch 23/100\n",
            "153/153 [==============================] - ETA: 0s - loss: 1.7247 - accuracy: 0.3520\n",
            "Epoch 23: val_accuracy did not improve from 0.54771\n",
            "153/153 [==============================] - 275s 2s/step - loss: 1.7247 - accuracy: 0.3520 - val_loss: 1.5149 - val_accuracy: 0.5267\n",
            "Epoch 24/100\n",
            "153/153 [==============================] - ETA: 0s - loss: 1.6981 - accuracy: 0.3608\n",
            "Epoch 24: val_accuracy did not improve from 0.54771\n",
            "153/153 [==============================] - 261s 2s/step - loss: 1.6981 - accuracy: 0.3608 - val_loss: 1.5149 - val_accuracy: 0.5038\n",
            "Epoch 25/100\n",
            "153/153 [==============================] - ETA: 0s - loss: 1.7026 - accuracy: 0.3575\n",
            "Epoch 25: val_accuracy did not improve from 0.54771\n",
            "153/153 [==============================] - 260s 2s/step - loss: 1.7026 - accuracy: 0.3575 - val_loss: 1.5971 - val_accuracy: 0.4905\n",
            "Epoch 26/100\n",
            "153/153 [==============================] - ETA: 0s - loss: 1.6569 - accuracy: 0.3894\n",
            "Epoch 26: val_accuracy improved from 0.54771 to 0.57729, saving model to LTSM_weights-improvement-26-0.58.hdf5\n",
            "153/153 [==============================] - 266s 2s/step - loss: 1.6569 - accuracy: 0.3894 - val_loss: 1.4007 - val_accuracy: 0.5773\n",
            "Epoch 27/100\n",
            "153/153 [==============================] - ETA: 0s - loss: 1.5979 - accuracy: 0.4099\n",
            "Epoch 27: val_accuracy did not improve from 0.57729\n",
            "153/153 [==============================] - 242s 2s/step - loss: 1.5979 - accuracy: 0.4099 - val_loss: 1.4643 - val_accuracy: 0.5515\n",
            "Epoch 28/100\n"
          ]
        },
        {
          "name": "stdout",
          "output_type": "stream",
          "text": [
            "153/153 [==============================] - ETA: 0s - loss: 1.6209 - accuracy: 0.4056\n",
            "Epoch 28: val_accuracy did not improve from 0.57729\n",
            "153/153 [==============================] - 237s 2s/step - loss: 1.6209 - accuracy: 0.4056 - val_loss: 1.4364 - val_accuracy: 0.5573\n",
            "Epoch 29/100\n",
            "153/153 [==============================] - ETA: 0s - loss: 1.6310 - accuracy: 0.4015\n",
            "Epoch 29: val_accuracy improved from 0.57729 to 0.60401, saving model to LTSM_weights-improvement-29-0.60.hdf5\n",
            "153/153 [==============================] - 259s 2s/step - loss: 1.6310 - accuracy: 0.4015 - val_loss: 1.3849 - val_accuracy: 0.6040\n",
            "Epoch 30/100\n",
            "153/153 [==============================] - ETA: 0s - loss: 1.6194 - accuracy: 0.4220\n",
            "Epoch 30: val_accuracy did not improve from 0.60401\n",
            "153/153 [==============================] - 244s 2s/step - loss: 1.6194 - accuracy: 0.4220 - val_loss: 1.3559 - val_accuracy: 0.6021\n",
            "Epoch 31/100\n",
            "153/153 [==============================] - ETA: 0s - loss: 1.5889 - accuracy: 0.4271\n",
            "Epoch 31: val_accuracy did not improve from 0.60401\n",
            "153/153 [==============================] - 250s 2s/step - loss: 1.5889 - accuracy: 0.4271 - val_loss: 1.3888 - val_accuracy: 0.5553\n",
            "Epoch 32/100\n",
            "153/153 [==============================] - ETA: 0s - loss: 1.5425 - accuracy: 0.4365\n",
            "Epoch 32: val_accuracy improved from 0.60401 to 0.61355, saving model to LTSM_weights-improvement-32-0.61.hdf5\n",
            "153/153 [==============================] - 250s 2s/step - loss: 1.5425 - accuracy: 0.4365 - val_loss: 1.2983 - val_accuracy: 0.6135\n",
            "Epoch 33/100\n",
            "153/153 [==============================] - ETA: 0s - loss: 1.5661 - accuracy: 0.4183\n",
            "Epoch 33: val_accuracy did not improve from 0.61355\n",
            "153/153 [==============================] - 255s 2s/step - loss: 1.5661 - accuracy: 0.4183 - val_loss: 1.3964 - val_accuracy: 0.5687\n",
            "Epoch 34/100\n",
            "153/153 [==============================] - ETA: 0s - loss: 1.5298 - accuracy: 0.4424\n",
            "Epoch 34: val_accuracy improved from 0.61355 to 0.63168, saving model to LTSM_weights-improvement-34-0.63.hdf5\n",
            "153/153 [==============================] - 255s 2s/step - loss: 1.5298 - accuracy: 0.4424 - val_loss: 1.3037 - val_accuracy: 0.6317\n",
            "Epoch 35/100\n",
            "153/153 [==============================] - ETA: 0s - loss: 1.5612 - accuracy: 0.4332\n",
            "Epoch 35: val_accuracy did not improve from 0.63168\n",
            "153/153 [==============================] - 245s 2s/step - loss: 1.5612 - accuracy: 0.4332 - val_loss: 1.3590 - val_accuracy: 0.5983\n",
            "Epoch 36/100\n",
            "153/153 [==============================] - ETA: 0s - loss: 1.5648 - accuracy: 0.4240\n",
            "Epoch 36: val_accuracy did not improve from 0.63168\n",
            "153/153 [==============================] - 247s 2s/step - loss: 1.5648 - accuracy: 0.4240 - val_loss: 1.3204 - val_accuracy: 0.6002\n",
            "Epoch 37/100\n",
            "153/153 [==============================] - ETA: 0s - loss: 1.5377 - accuracy: 0.4406 \n",
            "Epoch 37: val_accuracy did not improve from 0.63168\n",
            "153/153 [==============================] - 4366s 29s/step - loss: 1.5377 - accuracy: 0.4406 - val_loss: 1.3071 - val_accuracy: 0.6231\n",
            "Epoch 38/100\n",
            "153/153 [==============================] - ETA: 0s - loss: 1.5225 - accuracy: 0.4379\n",
            "Epoch 38: val_accuracy did not improve from 0.63168\n",
            "153/153 [==============================] - 285s 2s/step - loss: 1.5225 - accuracy: 0.4379 - val_loss: 1.2663 - val_accuracy: 0.6088\n",
            "Epoch 39/100\n",
            "153/153 [==============================] - ETA: 0s - loss: 1.5095 - accuracy: 0.4479\n",
            "Epoch 39: val_accuracy did not improve from 0.63168\n",
            "153/153 [==============================] - 293s 2s/step - loss: 1.5095 - accuracy: 0.4479 - val_loss: 1.2903 - val_accuracy: 0.5906\n",
            "Epoch 40/100\n",
            "153/153 [==============================] - ETA: 0s - loss: 1.5404 - accuracy: 0.4228\n",
            "Epoch 40: val_accuracy did not improve from 0.63168\n",
            "153/153 [==============================] - 278s 2s/step - loss: 1.5404 - accuracy: 0.4228 - val_loss: 1.3115 - val_accuracy: 0.6011\n",
            "Epoch 41/100\n",
            "153/153 [==============================] - ETA: 0s - loss: 1.5099 - accuracy: 0.4381\n",
            "Epoch 41: val_accuracy did not improve from 0.63168\n",
            "153/153 [==============================] - 308s 2s/step - loss: 1.5099 - accuracy: 0.4381 - val_loss: 1.2615 - val_accuracy: 0.6174\n",
            "Epoch 42/100\n",
            "153/153 [==============================] - ETA: 0s - loss: 1.5422 - accuracy: 0.4410\n",
            "Epoch 42: val_accuracy did not improve from 0.63168\n",
            "153/153 [==============================] - 311s 2s/step - loss: 1.5422 - accuracy: 0.4410 - val_loss: 1.3313 - val_accuracy: 0.5697\n",
            "Epoch 43/100\n",
            "153/153 [==============================] - ETA: 0s - loss: 1.5527 - accuracy: 0.4271\n",
            "Epoch 43: val_accuracy did not improve from 0.63168\n",
            "153/153 [==============================] - 312s 2s/step - loss: 1.5527 - accuracy: 0.4271 - val_loss: 1.2897 - val_accuracy: 0.5945\n",
            "Epoch 44/100\n",
            "153/153 [==============================] - ETA: 0s - loss: 1.5578 - accuracy: 0.4256\n",
            "Epoch 44: val_accuracy did not improve from 0.63168\n",
            "153/153 [==============================] - 304s 2s/step - loss: 1.5578 - accuracy: 0.4256 - val_loss: 1.2936 - val_accuracy: 0.5973\n",
            "Epoch 45/100\n",
            "153/153 [==============================] - ETA: 0s - loss: 1.5738 - accuracy: 0.4187\n",
            "Epoch 45: val_accuracy did not improve from 0.63168\n",
            "153/153 [==============================] - 310s 2s/step - loss: 1.5738 - accuracy: 0.4187 - val_loss: 1.3575 - val_accuracy: 0.5525\n",
            "Epoch 46/100\n",
            "153/153 [==============================] - ETA: 0s - loss: 1.5376 - accuracy: 0.4312\n",
            "Epoch 46: val_accuracy did not improve from 0.63168\n",
            "153/153 [==============================] - 304s 2s/step - loss: 1.5376 - accuracy: 0.4312 - val_loss: 1.2348 - val_accuracy: 0.5859\n",
            "Epoch 47/100\n",
            "153/153 [==============================] - ETA: 0s - loss: 1.4681 - accuracy: 0.4737\n",
            "Epoch 47: val_accuracy did not improve from 0.63168\n",
            "153/153 [==============================] - 277s 2s/step - loss: 1.4681 - accuracy: 0.4737 - val_loss: 1.3213 - val_accuracy: 0.5668\n",
            "Epoch 48/100\n",
            "153/153 [==============================] - ETA: 0s - loss: 1.5169 - accuracy: 0.4467\n",
            "Epoch 48: val_accuracy improved from 0.63168 to 0.64122, saving model to LTSM_weights-improvement-48-0.64.hdf5\n",
            "153/153 [==============================] - 281s 2s/step - loss: 1.5169 - accuracy: 0.4467 - val_loss: 1.1780 - val_accuracy: 0.6412\n",
            "Epoch 49/100\n",
            "153/153 [==============================] - ETA: 0s - loss: 1.4533 - accuracy: 0.4901\n",
            "Epoch 49: val_accuracy improved from 0.64122 to 0.65553, saving model to LTSM_weights-improvement-49-0.66.hdf5\n",
            "153/153 [==============================] - 278s 2s/step - loss: 1.4533 - accuracy: 0.4901 - val_loss: 1.1935 - val_accuracy: 0.6555\n",
            "Epoch 50/100\n",
            "153/153 [==============================] - ETA: 0s - loss: 1.4978 - accuracy: 0.4443\n",
            "Epoch 50: val_accuracy did not improve from 0.65553\n",
            "153/153 [==============================] - 273s 2s/step - loss: 1.4978 - accuracy: 0.4443 - val_loss: 1.2355 - val_accuracy: 0.6031\n",
            "Epoch 51/100\n",
            "153/153 [==============================] - ETA: 0s - loss: 1.4722 - accuracy: 0.4610\n",
            "Epoch 51: val_accuracy did not improve from 0.65553\n",
            "153/153 [==============================] - 265s 2s/step - loss: 1.4722 - accuracy: 0.4610 - val_loss: 1.1969 - val_accuracy: 0.6031\n",
            "Epoch 52/100\n",
            "153/153 [==============================] - ETA: 0s - loss: 1.4523 - accuracy: 0.4700\n",
            "Epoch 52: val_accuracy did not improve from 0.65553\n",
            "153/153 [==============================] - 264s 2s/step - loss: 1.4523 - accuracy: 0.4700 - val_loss: 1.1465 - val_accuracy: 0.6469\n",
            "Epoch 53/100\n",
            "153/153 [==============================] - ETA: 0s - loss: 1.4198 - accuracy: 0.4700\n",
            "Epoch 53: val_accuracy improved from 0.65553 to 0.67653, saving model to LTSM_weights-improvement-53-0.68.hdf5\n",
            "153/153 [==============================] - 403s 3s/step - loss: 1.4198 - accuracy: 0.4700 - val_loss: 1.1271 - val_accuracy: 0.6765\n",
            "Epoch 54/100\n",
            "153/153 [==============================] - ETA: 0s - loss: 1.3987 - accuracy: 0.4934\n",
            "Epoch 54: val_accuracy did not improve from 0.67653\n",
            "153/153 [==============================] - 303s 2s/step - loss: 1.3987 - accuracy: 0.4934 - val_loss: 1.1423 - val_accuracy: 0.6584\n",
            "Epoch 55/100\n",
            "153/153 [==============================] - ETA: 0s - loss: 1.4129 - accuracy: 0.4821\n",
            "Epoch 55: val_accuracy did not improve from 0.67653\n",
            "153/153 [==============================] - 286s 2s/step - loss: 1.4129 - accuracy: 0.4821 - val_loss: 1.2445 - val_accuracy: 0.6145\n"
          ]
        },
        {
          "name": "stdout",
          "output_type": "stream",
          "text": [
            "Epoch 56/100\n",
            "153/153 [==============================] - ETA: 0s - loss: 1.3805 - accuracy: 0.4921\n",
            "Epoch 56: val_accuracy improved from 0.67653 to 0.68034, saving model to LTSM_weights-improvement-56-0.68.hdf5\n",
            "153/153 [==============================] - 297s 2s/step - loss: 1.3805 - accuracy: 0.4921 - val_loss: 1.1481 - val_accuracy: 0.6803\n",
            "Epoch 57/100\n",
            "153/153 [==============================] - ETA: 0s - loss: 1.3863 - accuracy: 0.5005\n",
            "Epoch 57: val_accuracy did not improve from 0.68034\n",
            "153/153 [==============================] - 296s 2s/step - loss: 1.3863 - accuracy: 0.5005 - val_loss: 1.1108 - val_accuracy: 0.6651\n",
            "Epoch 58/100\n",
            "153/153 [==============================] - ETA: 0s - loss: 1.3875 - accuracy: 0.4874\n",
            "Epoch 58: val_accuracy did not improve from 0.68034\n",
            "153/153 [==============================] - 298s 2s/step - loss: 1.3875 - accuracy: 0.4874 - val_loss: 1.1635 - val_accuracy: 0.6546\n",
            "Epoch 59/100\n",
            "153/153 [==============================] - ETA: 0s - loss: 1.4165 - accuracy: 0.4751\n",
            "Epoch 59: val_accuracy did not improve from 0.68034\n",
            "153/153 [==============================] - 290s 2s/step - loss: 1.4165 - accuracy: 0.4751 - val_loss: 1.1622 - val_accuracy: 0.6355\n",
            "Epoch 60/100\n",
            "153/153 [==============================] - ETA: 0s - loss: 1.4202 - accuracy: 0.4825\n",
            "Epoch 60: val_accuracy did not improve from 0.68034\n",
            "153/153 [==============================] - 258s 2s/step - loss: 1.4202 - accuracy: 0.4825 - val_loss: 1.0932 - val_accuracy: 0.6727\n",
            "Epoch 61/100\n",
            "153/153 [==============================] - ETA: 0s - loss: 1.3957 - accuracy: 0.4891\n",
            "Epoch 61: val_accuracy did not improve from 0.68034\n",
            "153/153 [==============================] - 239s 2s/step - loss: 1.3957 - accuracy: 0.4891 - val_loss: 1.1410 - val_accuracy: 0.6479\n",
            "Epoch 62/100\n",
            "153/153 [==============================] - ETA: 0s - loss: 1.4391 - accuracy: 0.4614\n",
            "Epoch 62: val_accuracy improved from 0.68034 to 0.69561, saving model to LTSM_weights-improvement-62-0.70.hdf5\n",
            "153/153 [==============================] - 242s 2s/step - loss: 1.4391 - accuracy: 0.4614 - val_loss: 1.0879 - val_accuracy: 0.6956\n",
            "Epoch 63/100\n",
            "153/153 [==============================] - ETA: 0s - loss: 1.3727 - accuracy: 0.4776\n",
            "Epoch 63: val_accuracy did not improve from 0.69561\n",
            "153/153 [==============================] - 237s 2s/step - loss: 1.3727 - accuracy: 0.4776 - val_loss: 1.1271 - val_accuracy: 0.6555\n",
            "Epoch 64/100\n",
            "153/153 [==============================] - ETA: 0s - loss: 1.3563 - accuracy: 0.5040\n",
            "Epoch 64: val_accuracy did not improve from 0.69561\n",
            "153/153 [==============================] - 245s 2s/step - loss: 1.3563 - accuracy: 0.5040 - val_loss: 1.1119 - val_accuracy: 0.6431\n",
            "Epoch 65/100\n",
            "153/153 [==============================] - ETA: 0s - loss: 1.3479 - accuracy: 0.5034\n",
            "Epoch 65: val_accuracy did not improve from 0.69561\n",
            "153/153 [==============================] - 234s 2s/step - loss: 1.3479 - accuracy: 0.5034 - val_loss: 1.0399 - val_accuracy: 0.6880\n",
            "Epoch 66/100\n",
            "153/153 [==============================] - ETA: 0s - loss: 1.3138 - accuracy: 0.5220\n",
            "Epoch 66: val_accuracy improved from 0.69561 to 0.70992, saving model to LTSM_weights-improvement-66-0.71.hdf5\n",
            "153/153 [==============================] - 236s 2s/step - loss: 1.3138 - accuracy: 0.5220 - val_loss: 1.0157 - val_accuracy: 0.7099\n",
            "Epoch 67/100\n",
            "153/153 [==============================] - ETA: 0s - loss: 1.3951 - accuracy: 0.4915\n",
            "Epoch 67: val_accuracy did not improve from 0.70992\n",
            "153/153 [==============================] - 231s 2s/step - loss: 1.3951 - accuracy: 0.4915 - val_loss: 1.0489 - val_accuracy: 0.6918\n",
            "Epoch 68/100\n",
            "153/153 [==============================] - ETA: 0s - loss: 1.3436 - accuracy: 0.5073\n",
            "Epoch 68: val_accuracy improved from 0.70992 to 0.71183, saving model to LTSM_weights-improvement-68-0.71.hdf5\n",
            "153/153 [==============================] - 238s 2s/step - loss: 1.3436 - accuracy: 0.5073 - val_loss: 1.0296 - val_accuracy: 0.7118\n",
            "Epoch 69/100\n",
            "153/153 [==============================] - ETA: 0s - loss: 1.3678 - accuracy: 0.4974\n",
            "Epoch 69: val_accuracy improved from 0.71183 to 0.72233, saving model to LTSM_weights-improvement-69-0.72.hdf5\n",
            "153/153 [==============================] - 238s 2s/step - loss: 1.3678 - accuracy: 0.4974 - val_loss: 1.0011 - val_accuracy: 0.7223\n",
            "Epoch 70/100\n",
            "153/153 [==============================] - ETA: 0s - loss: 1.3342 - accuracy: 0.5099\n",
            "Epoch 70: val_accuracy did not improve from 0.72233\n",
            "153/153 [==============================] - 278s 2s/step - loss: 1.3342 - accuracy: 0.5099 - val_loss: 1.0283 - val_accuracy: 0.6842\n",
            "Epoch 71/100\n",
            "153/153 [==============================] - ETA: 0s - loss: 1.3180 - accuracy: 0.5132\n",
            "Epoch 71: val_accuracy did not improve from 0.72233\n",
            "153/153 [==============================] - 284s 2s/step - loss: 1.3180 - accuracy: 0.5132 - val_loss: 1.0458 - val_accuracy: 0.6927\n",
            "Epoch 72/100\n",
            "153/153 [==============================] - ETA: 0s - loss: 1.3605 - accuracy: 0.4936\n",
            "Epoch 72: val_accuracy did not improve from 0.72233\n",
            "153/153 [==============================] - 296s 2s/step - loss: 1.3605 - accuracy: 0.4936 - val_loss: 1.0703 - val_accuracy: 0.6775\n",
            "Epoch 73/100\n",
            "153/153 [==============================] - ETA: 0s - loss: 1.3697 - accuracy: 0.4960\n",
            "Epoch 73: val_accuracy did not improve from 0.72233\n",
            "153/153 [==============================] - 267s 2s/step - loss: 1.3697 - accuracy: 0.4960 - val_loss: 1.0757 - val_accuracy: 0.6775\n",
            "Epoch 74/100\n",
            "153/153 [==============================] - ETA: 0s - loss: 1.3848 - accuracy: 0.4860\n",
            "Epoch 74: val_accuracy did not improve from 0.72233\n",
            "153/153 [==============================] - 265s 2s/step - loss: 1.3848 - accuracy: 0.4860 - val_loss: 1.0495 - val_accuracy: 0.6956\n",
            "Epoch 75/100\n",
            "153/153 [==============================] - ETA: 0s - loss: 1.3876 - accuracy: 0.4886\n",
            "Epoch 75: val_accuracy did not improve from 0.72233\n",
            "153/153 [==============================] - 269s 2s/step - loss: 1.3876 - accuracy: 0.4886 - val_loss: 1.0581 - val_accuracy: 0.6994\n",
            "Epoch 76/100\n",
            "153/153 [==============================] - ETA: 0s - loss: 1.3734 - accuracy: 0.5050\n",
            "Epoch 76: val_accuracy did not improve from 0.72233\n",
            "153/153 [==============================] - 273s 2s/step - loss: 1.3734 - accuracy: 0.5050 - val_loss: 1.0673 - val_accuracy: 0.6927\n",
            "Epoch 77/100\n",
            "153/153 [==============================] - ETA: 0s - loss: 1.2901 - accuracy: 0.5263\n",
            "Epoch 77: val_accuracy did not improve from 0.72233\n",
            "153/153 [==============================] - 267s 2s/step - loss: 1.2901 - accuracy: 0.5263 - val_loss: 0.9875 - val_accuracy: 0.7223\n",
            "Epoch 78/100\n",
            "153/153 [==============================] - ETA: 0s - loss: 1.2866 - accuracy: 0.5267\n",
            "Epoch 78: val_accuracy did not improve from 0.72233\n",
            "153/153 [==============================] - 343s 2s/step - loss: 1.2866 - accuracy: 0.5267 - val_loss: 1.0467 - val_accuracy: 0.6727\n",
            "Epoch 79/100\n",
            "153/153 [==============================] - ETA: 0s - loss: 1.2802 - accuracy: 0.5214\n",
            "Epoch 79: val_accuracy did not improve from 0.72233\n",
            "153/153 [==============================] - 258s 2s/step - loss: 1.2802 - accuracy: 0.5214 - val_loss: 0.9849 - val_accuracy: 0.6870\n",
            "Epoch 80/100\n",
            "153/153 [==============================] - ETA: 0s - loss: 1.2375 - accuracy: 0.5459\n",
            "Epoch 80: val_accuracy did not improve from 0.72233\n",
            "153/153 [==============================] - 256s 2s/step - loss: 1.2375 - accuracy: 0.5459 - val_loss: 0.9464 - val_accuracy: 0.7223\n",
            "Epoch 81/100\n",
            "153/153 [==============================] - ETA: 0s - loss: 1.2534 - accuracy: 0.5316\n",
            "Epoch 81: val_accuracy did not improve from 0.72233\n",
            "153/153 [==============================] - 242s 2s/step - loss: 1.2534 - accuracy: 0.5316 - val_loss: 0.9711 - val_accuracy: 0.6756\n",
            "Epoch 82/100\n",
            "153/153 [==============================] - ETA: 0s - loss: 1.2275 - accuracy: 0.5539\n",
            "Epoch 82: val_accuracy did not improve from 0.72233\n",
            "153/153 [==============================] - 259s 2s/step - loss: 1.2275 - accuracy: 0.5539 - val_loss: 0.9909 - val_accuracy: 0.6918\n",
            "Epoch 83/100\n",
            "153/153 [==============================] - ETA: 0s - loss: 1.2523 - accuracy: 0.5445\n",
            "Epoch 83: val_accuracy improved from 0.72233 to 0.74237, saving model to LTSM_weights-improvement-83-0.74.hdf5\n",
            "153/153 [==============================] - 261s 2s/step - loss: 1.2523 - accuracy: 0.5445 - val_loss: 0.9256 - val_accuracy: 0.7424\n"
          ]
        },
        {
          "name": "stdout",
          "output_type": "stream",
          "text": [
            "Epoch 84/100\n",
            "153/153 [==============================] - ETA: 0s - loss: 1.2357 - accuracy: 0.5519\n",
            "Epoch 84: val_accuracy did not improve from 0.74237\n",
            "153/153 [==============================] - 264s 2s/step - loss: 1.2357 - accuracy: 0.5519 - val_loss: 0.9313 - val_accuracy: 0.7071\n",
            "Epoch 85/100\n",
            "153/153 [==============================] - ETA: 0s - loss: 1.2931 - accuracy: 0.5251\n",
            "Epoch 85: val_accuracy did not improve from 0.74237\n",
            "153/153 [==============================] - 244s 2s/step - loss: 1.2931 - accuracy: 0.5251 - val_loss: 1.0023 - val_accuracy: 0.6947\n",
            "Epoch 86/100\n",
            "153/153 [==============================] - ETA: 0s - loss: 1.4027 - accuracy: 0.4927\n",
            "Epoch 86: val_accuracy did not improve from 0.74237\n",
            "153/153 [==============================] - 244s 2s/step - loss: 1.4027 - accuracy: 0.4927 - val_loss: 1.0152 - val_accuracy: 0.6966\n",
            "Epoch 87/100\n",
            "153/153 [==============================] - ETA: 0s - loss: 1.2932 - accuracy: 0.5304\n",
            "Epoch 87: val_accuracy improved from 0.74237 to 0.75382, saving model to LTSM_weights-improvement-87-0.75.hdf5\n",
            "153/153 [==============================] - 239s 2s/step - loss: 1.2932 - accuracy: 0.5304 - val_loss: 0.9432 - val_accuracy: 0.7538\n",
            "Epoch 88/100\n",
            "153/153 [==============================] - ETA: 0s - loss: 1.2287 - accuracy: 0.5576\n",
            "Epoch 88: val_accuracy did not improve from 0.75382\n",
            "153/153 [==============================] - 237s 2s/step - loss: 1.2287 - accuracy: 0.5576 - val_loss: 0.9356 - val_accuracy: 0.7156\n",
            "Epoch 89/100\n",
            "153/153 [==============================] - ETA: 0s - loss: 1.2255 - accuracy: 0.5594\n",
            "Epoch 89: val_accuracy did not improve from 0.75382\n",
            "153/153 [==============================] - 237s 2s/step - loss: 1.2255 - accuracy: 0.5594 - val_loss: 0.9161 - val_accuracy: 0.7452\n",
            "Epoch 90/100\n",
            "153/153 [==============================] - ETA: 0s - loss: 1.2752 - accuracy: 0.5281\n",
            "Epoch 90: val_accuracy did not improve from 0.75382\n",
            "153/153 [==============================] - 278s 2s/step - loss: 1.2752 - accuracy: 0.5281 - val_loss: 0.9815 - val_accuracy: 0.6880\n",
            "Epoch 91/100\n",
            "153/153 [==============================] - ETA: 0s - loss: 1.1999 - accuracy: 0.5641\n",
            "Epoch 91: val_accuracy did not improve from 0.75382\n",
            "153/153 [==============================] - 262s 2s/step - loss: 1.1999 - accuracy: 0.5641 - val_loss: 0.8803 - val_accuracy: 0.7357\n",
            "Epoch 92/100\n",
            "153/153 [==============================] - ETA: 0s - loss: 1.2108 - accuracy: 0.5633\n",
            "Epoch 92: val_accuracy did not improve from 0.75382\n",
            "153/153 [==============================] - 258s 2s/step - loss: 1.2108 - accuracy: 0.5633 - val_loss: 0.9042 - val_accuracy: 0.7281\n",
            "Epoch 93/100\n",
            "153/153 [==============================] - ETA: 0s - loss: 1.2505 - accuracy: 0.5420\n",
            "Epoch 93: val_accuracy did not improve from 0.75382\n",
            "153/153 [==============================] - 237s 2s/step - loss: 1.2505 - accuracy: 0.5420 - val_loss: 0.9192 - val_accuracy: 0.7176\n",
            "Epoch 94/100\n",
            "153/153 [==============================] - ETA: 0s - loss: 1.2719 - accuracy: 0.5271\n",
            "Epoch 94: val_accuracy did not improve from 0.75382\n",
            "153/153 [==============================] - 238s 2s/step - loss: 1.2719 - accuracy: 0.5271 - val_loss: 0.9681 - val_accuracy: 0.6947\n",
            "Epoch 95/100\n",
            "153/153 [==============================] - ETA: 0s - loss: 1.1966 - accuracy: 0.5692\n",
            "Epoch 95: val_accuracy did not improve from 0.75382\n",
            "153/153 [==============================] - 287s 2s/step - loss: 1.1966 - accuracy: 0.5692 - val_loss: 0.9321 - val_accuracy: 0.7319\n",
            "Epoch 96/100\n",
            "153/153 [==============================] - ETA: 0s - loss: 1.2034 - accuracy: 0.5637\n",
            "Epoch 96: val_accuracy did not improve from 0.75382\n",
            "153/153 [==============================] - 298s 2s/step - loss: 1.2034 - accuracy: 0.5637 - val_loss: 0.8832 - val_accuracy: 0.7319\n",
            "Epoch 97/100\n",
            "153/153 [==============================] - ETA: 0s - loss: 1.1834 - accuracy: 0.5727\n",
            "Epoch 97: val_accuracy improved from 0.75382 to 0.75763, saving model to LTSM_weights-improvement-97-0.76.hdf5\n",
            "153/153 [==============================] - 267s 2s/step - loss: 1.1834 - accuracy: 0.5727 - val_loss: 0.8774 - val_accuracy: 0.7576\n",
            "Epoch 98/100\n",
            "153/153 [==============================] - ETA: 0s - loss: 1.1831 - accuracy: 0.5705\n",
            "Epoch 98: val_accuracy did not improve from 0.75763\n",
            "153/153 [==============================] - 263s 2s/step - loss: 1.1831 - accuracy: 0.5705 - val_loss: 0.9022 - val_accuracy: 0.7462\n",
            "Epoch 99/100\n",
            "153/153 [==============================] - ETA: 0s - loss: 1.2099 - accuracy: 0.5594\n",
            "Epoch 99: val_accuracy did not improve from 0.75763\n",
            "153/153 [==============================] - 264s 2s/step - loss: 1.2099 - accuracy: 0.5594 - val_loss: 0.9411 - val_accuracy: 0.7013\n",
            "Epoch 100/100\n",
            "153/153 [==============================] - ETA: 0s - loss: 1.2514 - accuracy: 0.5531\n",
            "Epoch 100: val_accuracy did not improve from 0.75763\n",
            "153/153 [==============================] - 264s 2s/step - loss: 1.2514 - accuracy: 0.5531 - val_loss: 0.9114 - val_accuracy: 0.7414\n"
          ]
        },
        {
          "data": {
            "text/plain": [
              "<keras.callbacks.History at 0x1d62e7b0d90>"
            ]
          },
          "execution_count": 30,
          "metadata": {},
          "output_type": "execute_result"
        }
      ],
      "source": [
        "classifier.fit(X_train2, y_train, epochs=100, batch_size=32, callbacks=callbacks_list, validation_data=(X_val2, y_val))"
      ]
    },
    {
      "cell_type": "code",
      "execution_count": null,
      "id": "942cf824",
      "metadata": {
        "id": "942cf824"
      },
      "outputs": [],
      "source": [
        "model_path = 'LTSM100.h5'\n",
        "classifier.save(model_path)"
      ]
    },
    {
      "cell_type": "code",
      "execution_count": null,
      "id": "22fd0746",
      "metadata": {
        "id": "22fd0746",
        "outputId": "84752500-7602-4932-f9f8-693060cf477d"
      },
      "outputs": [
        {
          "name": "stdout",
          "output_type": "stream",
          "text": [
            "33/33 [==============================] - 5s 131ms/step - loss: 0.9490 - accuracy: 0.7347\n"
          ]
        }
      ],
      "source": [
        "loss, accuracy = classifier.evaluate(X_test2, y_test)"
      ]
    }
  ],
  "metadata": {
    "kernelspec": {
      "display_name": "Python 3 (ipykernel)",
      "language": "python",
      "name": "python3"
    },
    "language_info": {
      "codemirror_mode": {
        "name": "ipython",
        "version": 3
      },
      "file_extension": ".py",
      "mimetype": "text/x-python",
      "name": "python",
      "nbconvert_exporter": "python",
      "pygments_lexer": "ipython3",
      "version": "3.11.1"
    },
    "colab": {
      "provenance": [],
      "include_colab_link": true
    }
  },
  "nbformat": 4,
  "nbformat_minor": 5
}