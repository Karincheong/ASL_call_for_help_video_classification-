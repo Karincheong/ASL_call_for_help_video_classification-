{
  "cells": [
    {
      "cell_type": "markdown",
      "metadata": {
        "id": "view-in-github",
        "colab_type": "text"
      },
      "source": [
        "<a href=\"https://colab.research.google.com/github/Karincheong/Call-For-Help-American-Sign-Language-Recognition-Using-Deep-Learning-Model/blob/main/CNN_model_result.ipynb\" target=\"_parent\"><img src=\"https://colab.research.google.com/assets/colab-badge.svg\" alt=\"Open In Colab\"/></a>"
      ]
    },
    {
      "cell_type": "code",
      "execution_count": null,
      "metadata": {
        "id": "pWI7MZyNbBcS"
      },
      "outputs": [],
      "source": [
        "from google.colab import drive\n",
        "drive.mount('/content/drive')\n"
      ]
    },
    {
      "cell_type": "code",
      "execution_count": null,
      "metadata": {
        "id": "AAhGxSW4ltuG"
      },
      "outputs": [],
      "source": [
        "import tensorflow as tf\n"
      ]
    },
    {
      "cell_type": "code",
      "execution_count": null,
      "metadata": {
        "id": "gwzGDYy2baCc"
      },
      "outputs": [],
      "source": [
        "import os\n",
        "from PIL import Image\n",
        "import numpy as np\n",
        "\n",
        "image_dir = '/content/drive/MyDrive/dataset3'\n",
        "image_files = os.listdir(image_dir)"
      ]
    },
    {
      "cell_type": "code",
      "execution_count": null,
      "metadata": {
        "id": "nSc4VPmAcJ0J"
      },
      "outputs": [],
      "source": [
        "import os\n",
        "import numpy as np\n",
        "\n",
        "from keras.utils import load_img, img_to_array\n",
        "from keras.applications.inception_v3 import InceptionV3, preprocess_input\n",
        "from keras.models import Sequential\n",
        "from keras.layers import LSTM, Dense, Dropout\n",
        "from sklearn.model_selection import train_test_split\n",
        "from sklearn.preprocessing import LabelEncoder\n",
        "from keras.utils import np_utils\n",
        "from keras.models import load_model\n",
        "import pickle\n",
        "from tensorflow.keras.layers import Input, Lambda, Dense, Flatten\n",
        "from tensorflow.keras.models import Model\n",
        "from tensorflow.keras.preprocessing import image\n",
        "from tensorflow.keras.preprocessing.image import ImageDataGenerator,load_img\n",
        "from tensorflow.keras.models import Sequential\n",
        "from keras import models\n",
        "import numpy as np\n",
        "from glob import glob\n",
        "# Import the required libraries\n",
        "import numpy as np\n",
        "import pandas as pd\n",
        "import matplotlib.pyplot as plt\n",
        "from PIL import Image\n",
        "import keras\n",
        "import pathlib\n",
        "import os\n",
        "import PIL\n",
        "import tensorflow as tf\n",
        "from tensorflow import keras\n",
        "from tensorflow.keras import layers\n",
        "from tensorflow.python.keras.layers import Dense, Flatten\n",
        "from tensorflow.keras.models import Sequential\n",
        "from tensorflow.keras.optimizers import Adam\n",
        "from keras.preprocessing.image import ImageDataGenerator\n",
        "from keras import optimizers\n",
        "from keras import models\n",
        "import pathlib\n",
        "from tensorflow.keras import initializers\n",
        "from tensorflow.keras.layers import BatchNormalization, GlobalAveragePooling2D\n",
        "from tensorflow.keras.preprocessing import image\n",
        "from tensorflow.keras.applications.resnet50 import preprocess_input,decode_predictions"
      ]
    },
    {
      "cell_type": "code",
      "execution_count": null,
      "metadata": {
        "id": "BD7AoDIjxE5X"
      },
      "outputs": [],
      "source": [
        "import numpy as np\n",
        "import os\n",
        "import random\n",
        "\n",
        "# Set path to image directory\n",
        "data_directory = '/content/drive/MyDrive/dataset3'\n",
        "# List out subfolders\n",
        "subfolders = sorted(os.listdir(data_directory))\n",
        "# Lstore image and labels\n",
        "image_paths = []\n",
        "labels = []\n",
        "\n",
        "# Iterate over subfolders\n",
        "for subfolder in subfolders:\n",
        "    folder_path = os.path.join(data_directory, subfolder)\n",
        "    file_names = os.listdir(folder_path)\n",
        "    file_paths = [os.path.join(folder_path, file_name) for file_name in file_names]\n",
        "    image_paths.extend(file_paths)\n",
        "    labels.extend([subfolder] * len(file_paths))\n",
        "\n",
        "# Convert to numpy arrays\n",
        "X = np.array(image_paths)\n",
        "y = np.array(labels)\n",
        "\n",
        "# Shuffle the dataset indices\n",
        "indices = np.arange(len(X))\n",
        "np.random.shuffle(indices)\n",
        "\n",
        "# Shuffle the X and y arrays based on the shuffled indices\n",
        "X = X[indices]\n",
        "y = y[indices]\n"
      ]
    },
    {
      "cell_type": "code",
      "execution_count": null,
      "metadata": {
        "id": "kqEDlVY1xvL1"
      },
      "outputs": [],
      "source": [
        "#encode\n",
        "le = LabelEncoder()\n",
        "y = le.fit_transform(y)\n",
        "y = np_utils.to_categorical(y)"
      ]
    },
    {
      "cell_type": "code",
      "execution_count": null,
      "metadata": {
        "id": "sWqnjACsxxw6"
      },
      "outputs": [],
      "source": [
        "# Split the dataset into training and testing sets\n",
        "X_train, X_rem, y_train, y_rem = train_test_split(X, y, train_size=0.7, random_state=42)"
      ]
    },
    {
      "cell_type": "code",
      "execution_count": null,
      "metadata": {
        "id": "0u9ckPXCx0Hz"
      },
      "outputs": [],
      "source": [
        "X_val, X_test, y_val, y_test = train_test_split(X_rem,y_rem, test_size=0.5)"
      ]
    },
    {
      "cell_type": "code",
      "execution_count": null,
      "metadata": {
        "colab": {
          "base_uri": "https://localhost:8080/"
        },
        "id": "Yq7MhvHgx3iK",
        "outputId": "4b361672-8770-4b25-f045-c8f1bf5338b6"
      },
      "outputs": [
        {
          "output_type": "execute_result",
          "data": {
            "text/plain": [
              "4889"
            ]
          },
          "metadata": {},
          "execution_count": 9
        }
      ],
      "source": [
        "trainsize=len(X_train)\n",
        "trainsize"
      ]
    },
    {
      "cell_type": "code",
      "execution_count": null,
      "metadata": {
        "colab": {
          "base_uri": "https://localhost:8080/"
        },
        "id": "aWqTC1j357AM",
        "outputId": "e0dde3d4-19ed-4445-9e7b-9e9653af9052"
      },
      "outputs": [
        {
          "output_type": "execute_result",
          "data": {
            "text/plain": [
              "1048"
            ]
          },
          "metadata": {},
          "execution_count": 10
        }
      ],
      "source": [
        "testsize=len(X_test)\n",
        "testsize"
      ]
    },
    {
      "cell_type": "code",
      "execution_count": null,
      "metadata": {
        "colab": {
          "base_uri": "https://localhost:8080/",
          "height": 182
        },
        "id": "pEc_j8o-6Jec",
        "outputId": "27d67757-5d4d-4846-922d-ed086766aefc"
      },
      "outputs": [
        {
          "output_type": "error",
          "ename": "NameError",
          "evalue": "ignored",
          "traceback": [
            "\u001b[0;31m---------------------------------------------------------------------------\u001b[0m",
            "\u001b[0;31mNameError\u001b[0m                                 Traceback (most recent call last)",
            "\u001b[0;32m<ipython-input-15-5e4fae4b68b7>\u001b[0m in \u001b[0;36m<cell line: 1>\u001b[0;34m()\u001b[0m\n\u001b[0;32m----> 1\u001b[0;31m \u001b[0mvalsize\u001b[0m\u001b[0;34m=\u001b[0m\u001b[0mlen\u001b[0m\u001b[0;34m(\u001b[0m\u001b[0mX_val\u001b[0m\u001b[0;34m)\u001b[0m\u001b[0;34m\u001b[0m\u001b[0;34m\u001b[0m\u001b[0m\n\u001b[0m\u001b[1;32m      2\u001b[0m \u001b[0mvalsize\u001b[0m\u001b[0;34m\u001b[0m\u001b[0;34m\u001b[0m\u001b[0m\n",
            "\u001b[0;31mNameError\u001b[0m: name 'X_val' is not defined"
          ]
        }
      ],
      "source": [
        "valsize=len(X_val)\n",
        "valsize"
      ]
    },
    {
      "cell_type": "code",
      "execution_count": null,
      "metadata": {
        "id": "4sXkUOEryJQ4"
      },
      "outputs": [],
      "source": [
        "from tensorflow.keras.preprocessing.image import ImageDataGenerator, img_to_array, load_img\n",
        "import numpy as np\n",
        "\n",
        "# Set image dimensions\n",
        "image_width = 64\n",
        "image_height = 64\n",
        "batch_size=20\n",
        "\n",
        "datagen = ImageDataGenerator(rescale=1.0/255)  # Rescale pixel values between 0 and 1\n",
        "\n",
        "# Function to load and preprocess images\n",
        "def load_and_preprocess_images(image_paths):\n",
        "    images = []\n",
        "    for path in image_paths:\n",
        "        img = load_img(path, target_size=(image_width, image_height))\n",
        "        img_array = img_to_array(img)\n",
        "        images.append(img_array)\n",
        "    return np.array(images)\n",
        "\n",
        "# preprocess train data\n",
        "X_train_processed = load_and_preprocess_images(X_train)\n",
        "y_train = np.array(y_train)\n",
        "\n",
        "# preprocess validation data\n",
        "X_val_processed = load_and_preprocess_images(X_val)\n",
        "y_val = np.array(y_val)\n",
        "\n",
        "# preprocess test data\n",
        "X_test_processed = load_and_preprocess_images(X_test)\n",
        "y_test = np.array(y_test)\n",
        "\n",
        "\n"
      ]
    },
    {
      "cell_type": "code",
      "execution_count": null,
      "metadata": {
        "id": "DBNX1ekD1frs"
      },
      "outputs": [],
      "source": [
        "train_generator = datagen.flow(X_train_processed, y_train, batch_size=batch_size)\n",
        "\n",
        "validation_generator = datagen.flow(X_val_processed, y_val, batch_size=batch_size)\n",
        "\n",
        "test_generator = datagen.flow(X_test_processed, y_test, batch_size=batch_size)"
      ]
    },
    {
      "cell_type": "code",
      "source": [
        "# traditional CNN without dropout\n",
        "\n",
        "model = models.Sequential()\n",
        "model.add(layers.Conv2D(32, (3, 3), activation='relu', input_shape=(64, 64, 3),dilation_rate=(1,1),kernel_initializer='glorot_uniform',strides=(1,1)))\n",
        "model.add(layers.Conv2D(32, (3, 3), activation='relu',dilation_rate=(1,1),kernel_initializer='glorot_uniform',strides=(1,1)))\n",
        "model.add(layers.MaxPooling2D((2, 2)))\n",
        "\n",
        "model.add(layers.Conv2D(64, (3, 3), activation='relu',dilation_rate=(1,1),kernel_initializer='glorot_uniform',strides=(1,1)))\n",
        "model.add(layers.Conv2D(64, (3, 3), activation='relu',dilation_rate=(1,1),kernel_initializer='glorot_uniform',strides=(1,1)))\n",
        "model.add(layers.MaxPooling2D((2, 2)))\n",
        "\n",
        "model.add(layers.Flatten())\n",
        "model.add(layers.Dense(512, activation='relu'))\n",
        "model.add(layers.Dense(9, activation='softmax'))\n",
        "# Displaying a summary of the model\n",
        "model.summary()"
      ],
      "metadata": {
        "colab": {
          "base_uri": "https://localhost:8080/"
        },
        "id": "FmhmgOnm22Gn",
        "outputId": "f0f9251b-921a-401c-f1bb-00f72c1c699a"
      },
      "execution_count": null,
      "outputs": [
        {
          "output_type": "stream",
          "name": "stdout",
          "text": [
            "Model: \"sequential_5\"\n",
            "_________________________________________________________________\n",
            " Layer (type)                Output Shape              Param #   \n",
            "=================================================================\n",
            " conv2d_20 (Conv2D)          (None, 62, 62, 32)        896       \n",
            "                                                                 \n",
            " conv2d_21 (Conv2D)          (None, 60, 60, 32)        9248      \n",
            "                                                                 \n",
            " max_pooling2d_10 (MaxPoolin  (None, 30, 30, 32)       0         \n",
            " g2D)                                                            \n",
            "                                                                 \n",
            " conv2d_22 (Conv2D)          (None, 28, 28, 64)        18496     \n",
            "                                                                 \n",
            " conv2d_23 (Conv2D)          (None, 26, 26, 64)        36928     \n",
            "                                                                 \n",
            " max_pooling2d_11 (MaxPoolin  (None, 13, 13, 64)       0         \n",
            " g2D)                                                            \n",
            "                                                                 \n",
            " flatten_5 (Flatten)         (None, 10816)             0         \n",
            "                                                                 \n",
            " dense_10 (Dense)            (None, 512)               5538304   \n",
            "                                                                 \n",
            " dense_11 (Dense)            (None, 9)                 4617      \n",
            "                                                                 \n",
            "=================================================================\n",
            "Total params: 5,608,489\n",
            "Trainable params: 5,608,489\n",
            "Non-trainable params: 0\n",
            "_________________________________________________________________\n"
          ]
        }
      ]
    },
    {
      "cell_type": "code",
      "source": [
        "# set optimazation\n",
        "model.compile(\n",
        "  loss='categorical_crossentropy',\n",
        "  optimizer='rmsprop',\n",
        "  metrics=['accuracy']\n",
        ")"
      ],
      "metadata": {
        "id": "WajqDIyQ3Crn"
      },
      "execution_count": null,
      "outputs": []
    },
    {
      "cell_type": "code",
      "source": [
        "history = model.fit_generator(\n",
        " train_generator,\n",
        " steps_per_epoch=100,\n",
        " epochs=20,\n",
        " validation_data=validation_generator,\n",
        " validation_steps=50)"
      ],
      "metadata": {
        "colab": {
          "base_uri": "https://localhost:8080/"
        },
        "id": "0QIAZYMO3K2v",
        "outputId": "3e20a6a9-c54d-41c8-8b5b-b8ead17e52b2"
      },
      "execution_count": null,
      "outputs": [
        {
          "output_type": "stream",
          "name": "stdout",
          "text": [
            "Epoch 1/20\n"
          ]
        },
        {
          "output_type": "stream",
          "name": "stderr",
          "text": [
            "<ipython-input-24-c9aaf91eea1c>:1: UserWarning: `Model.fit_generator` is deprecated and will be removed in a future version. Please use `Model.fit`, which supports generators.\n",
            "  history = model.fit_generator(\n"
          ]
        },
        {
          "output_type": "stream",
          "name": "stdout",
          "text": [
            "100/100 [==============================] - 3s 11ms/step - loss: 2.3649 - accuracy: 0.1350 - val_loss: 2.0075 - val_accuracy: 0.3030\n",
            "Epoch 2/20\n",
            "100/100 [==============================] - 1s 9ms/step - loss: 1.8062 - accuracy: 0.3585 - val_loss: 1.5946 - val_accuracy: 0.4670\n",
            "Epoch 3/20\n",
            "100/100 [==============================] - 1s 9ms/step - loss: 1.2280 - accuracy: 0.5887 - val_loss: 1.2865 - val_accuracy: 0.5870\n",
            "Epoch 4/20\n",
            "100/100 [==============================] - 1s 9ms/step - loss: 0.7934 - accuracy: 0.7491 - val_loss: 0.8701 - val_accuracy: 0.7370\n",
            "Epoch 5/20\n",
            "100/100 [==============================] - 1s 9ms/step - loss: 0.5025 - accuracy: 0.8517 - val_loss: 0.7264 - val_accuracy: 0.7730\n",
            "Epoch 6/20\n",
            "100/100 [==============================] - 1s 9ms/step - loss: 0.3477 - accuracy: 0.9010 - val_loss: 0.5892 - val_accuracy: 0.8320\n",
            "Epoch 7/20\n",
            "100/100 [==============================] - 1s 9ms/step - loss: 0.2429 - accuracy: 0.9291 - val_loss: 0.5931 - val_accuracy: 0.8400\n",
            "Epoch 8/20\n",
            "100/100 [==============================] - 1s 9ms/step - loss: 0.1944 - accuracy: 0.9405 - val_loss: 0.7440 - val_accuracy: 0.8350\n",
            "Epoch 9/20\n",
            "100/100 [==============================] - 1s 9ms/step - loss: 0.1484 - accuracy: 0.9613 - val_loss: 0.4353 - val_accuracy: 0.8830\n",
            "Epoch 10/20\n",
            "100/100 [==============================] - 1s 10ms/step - loss: 0.1082 - accuracy: 0.9668 - val_loss: 0.5893 - val_accuracy: 0.8690\n",
            "Epoch 11/20\n",
            "100/100 [==============================] - 1s 10ms/step - loss: 0.0738 - accuracy: 0.9765 - val_loss: 0.5751 - val_accuracy: 0.8790\n",
            "Epoch 12/20\n",
            "100/100 [==============================] - 1s 9ms/step - loss: 0.0501 - accuracy: 0.9849 - val_loss: 0.8458 - val_accuracy: 0.8710\n",
            "Epoch 13/20\n",
            "100/100 [==============================] - 1s 9ms/step - loss: 0.0550 - accuracy: 0.9865 - val_loss: 0.7796 - val_accuracy: 0.8780\n",
            "Epoch 14/20\n",
            "100/100 [==============================] - 1s 9ms/step - loss: 0.0354 - accuracy: 0.9885 - val_loss: 0.6580 - val_accuracy: 0.8940\n",
            "Epoch 15/20\n",
            "100/100 [==============================] - 1s 9ms/step - loss: 0.0430 - accuracy: 0.9905 - val_loss: 0.6200 - val_accuracy: 0.8930\n",
            "Epoch 16/20\n",
            "100/100 [==============================] - 1s 9ms/step - loss: 0.0362 - accuracy: 0.9920 - val_loss: 0.6279 - val_accuracy: 0.8890\n",
            "Epoch 17/20\n",
            "100/100 [==============================] - 1s 9ms/step - loss: 0.0297 - accuracy: 0.9930 - val_loss: 0.6782 - val_accuracy: 0.9040\n",
            "Epoch 18/20\n",
            "100/100 [==============================] - 1s 9ms/step - loss: 0.0468 - accuracy: 0.9920 - val_loss: 0.9556 - val_accuracy: 0.8950\n",
            "Epoch 19/20\n",
            "100/100 [==============================] - 1s 9ms/step - loss: 0.0415 - accuracy: 0.9900 - val_loss: 0.8314 - val_accuracy: 0.8870\n",
            "Epoch 20/20\n",
            "100/100 [==============================] - 1s 9ms/step - loss: 0.0410 - accuracy: 0.9915 - val_loss: 0.7028 - val_accuracy: 0.8920\n"
          ]
        }
      ]
    },
    {
      "cell_type": "code",
      "source": [
        "# Evaluate the model by using test generator\n",
        "test_loss, test_accuracy = model.evaluate(test_generator)"
      ],
      "metadata": {
        "colab": {
          "base_uri": "https://localhost:8080/"
        },
        "id": "Ltqt8Hlj3Pe4",
        "outputId": "3b28acec-a9e0-4a5d-e047-36798bf070c7"
      },
      "execution_count": null,
      "outputs": [
        {
          "output_type": "stream",
          "name": "stdout",
          "text": [
            "53/53 [==============================] - 0s 4ms/step - loss: 0.6599 - accuracy: 0.8855\n"
          ]
        }
      ]
    },
    {
      "cell_type": "code",
      "execution_count": null,
      "metadata": {
        "colab": {
          "base_uri": "https://localhost:8080/"
        },
        "id": "rsqFclXM3c8E",
        "outputId": "4e6593d2-db10-4cd0-abd6-831690a642b4"
      },
      "outputs": [
        {
          "output_type": "stream",
          "name": "stdout",
          "text": [
            "Model: \"sequential_6\"\n",
            "_________________________________________________________________\n",
            " Layer (type)                Output Shape              Param #   \n",
            "=================================================================\n",
            " conv2d_24 (Conv2D)          (None, 62, 62, 32)        896       \n",
            "                                                                 \n",
            " conv2d_25 (Conv2D)          (None, 60, 60, 32)        9248      \n",
            "                                                                 \n",
            " max_pooling2d_12 (MaxPoolin  (None, 30, 30, 32)       0         \n",
            " g2D)                                                            \n",
            "                                                                 \n",
            " conv2d_26 (Conv2D)          (None, 28, 28, 64)        18496     \n",
            "                                                                 \n",
            " conv2d_27 (Conv2D)          (None, 26, 26, 64)        36928     \n",
            "                                                                 \n",
            " max_pooling2d_13 (MaxPoolin  (None, 13, 13, 64)       0         \n",
            " g2D)                                                            \n",
            "                                                                 \n",
            " flatten_6 (Flatten)         (None, 10816)             0         \n",
            "                                                                 \n",
            " dropout_3 (Dropout)         (None, 10816)             0         \n",
            "                                                                 \n",
            " dense_12 (Dense)            (None, 512)               5538304   \n",
            "                                                                 \n",
            " dense_13 (Dense)            (None, 9)                 4617      \n",
            "                                                                 \n",
            "=================================================================\n",
            "Total params: 5,608,489\n",
            "Trainable params: 5,608,489\n",
            "Non-trainable params: 0\n",
            "_________________________________________________________________\n"
          ]
        }
      ],
      "source": [
        "# traditional CNN with dropout\n",
        "\n",
        "model = models.Sequential()\n",
        "model.add(layers.Conv2D(32, (3, 3), activation='relu', input_shape=(64, 64, 3),dilation_rate=(1,1),kernel_initializer='glorot_uniform',strides=(1,1)))\n",
        "model.add(layers.Conv2D(32, (3, 3), activation='relu',dilation_rate=(1,1),kernel_initializer='glorot_uniform',strides=(1,1)))\n",
        "model.add(layers.MaxPooling2D((2, 2)))\n",
        "\n",
        "model.add(layers.Conv2D(64, (3, 3), activation='relu',dilation_rate=(1,1),kernel_initializer='glorot_uniform',strides=(1,1)))\n",
        "model.add(layers.Conv2D(64, (3, 3), activation='relu',dilation_rate=(1,1),kernel_initializer='glorot_uniform',strides=(1,1)))\n",
        "model.add(layers.MaxPooling2D((2, 2)))\n",
        "\n",
        "model.add(layers.Flatten())\n",
        "model.add(layers.Dropout(0.5))\n",
        "model.add(layers.Dense(512, activation='relu'))\n",
        "model.add(layers.Dense(9, activation='softmax'))\n",
        "# Displaying a summary of the model\n",
        "model.summary()"
      ]
    },
    {
      "cell_type": "code",
      "execution_count": null,
      "metadata": {
        "id": "10BzA4yE3fMj"
      },
      "outputs": [],
      "source": [
        "# set optimazation\n",
        "model.compile(\n",
        "  loss='categorical_crossentropy',\n",
        "  optimizer='rmsprop',\n",
        "  metrics=['accuracy']\n",
        ")"
      ]
    },
    {
      "cell_type": "code",
      "execution_count": null,
      "metadata": {
        "colab": {
          "base_uri": "https://localhost:8080/"
        },
        "id": "wmk0RY9f3hTx",
        "outputId": "94ab9dc2-c2df-491d-c53b-4385e8537955"
      },
      "outputs": [
        {
          "output_type": "stream",
          "name": "stdout",
          "text": [
            "Epoch 1/100\n"
          ]
        },
        {
          "output_type": "stream",
          "name": "stderr",
          "text": [
            "<ipython-input-34-ba2b11a3c3df>:1: UserWarning: `Model.fit_generator` is deprecated and will be removed in a future version. Please use `Model.fit`, which supports generators.\n",
            "  history = model.fit_generator(\n"
          ]
        },
        {
          "output_type": "stream",
          "name": "stdout",
          "text": [
            "100/100 [==============================] - 3s 11ms/step - loss: 2.2013 - accuracy: 0.1415 - val_loss: 2.2323 - val_accuracy: 0.1180\n",
            "Epoch 2/100\n",
            "100/100 [==============================] - 1s 9ms/step - loss: 1.9767 - accuracy: 0.2725 - val_loss: 1.7602 - val_accuracy: 0.4070\n",
            "Epoch 3/100\n",
            "100/100 [==============================] - 1s 11ms/step - loss: 1.5183 - accuracy: 0.4721 - val_loss: 1.2757 - val_accuracy: 0.6030\n",
            "Epoch 4/100\n",
            "100/100 [==============================] - 1s 10ms/step - loss: 1.1779 - accuracy: 0.6130 - val_loss: 1.0509 - val_accuracy: 0.6650\n",
            "Epoch 5/100\n",
            "100/100 [==============================] - 1s 10ms/step - loss: 0.8642 - accuracy: 0.7120 - val_loss: 0.7784 - val_accuracy: 0.7770\n",
            "Epoch 6/100\n",
            "100/100 [==============================] - 1s 9ms/step - loss: 0.6980 - accuracy: 0.7810 - val_loss: 0.7140 - val_accuracy: 0.7640\n",
            "Epoch 7/100\n",
            "100/100 [==============================] - 1s 9ms/step - loss: 0.5735 - accuracy: 0.8100 - val_loss: 0.5890 - val_accuracy: 0.8190\n",
            "Epoch 8/100\n",
            "100/100 [==============================] - 1s 9ms/step - loss: 0.4425 - accuracy: 0.8630 - val_loss: 0.5399 - val_accuracy: 0.8300\n",
            "Epoch 9/100\n",
            "100/100 [==============================] - 1s 9ms/step - loss: 0.3522 - accuracy: 0.8920 - val_loss: 0.4551 - val_accuracy: 0.8640\n",
            "Epoch 10/100\n",
            "100/100 [==============================] - 1s 9ms/step - loss: 0.3184 - accuracy: 0.8974 - val_loss: 0.4053 - val_accuracy: 0.8780\n",
            "Epoch 11/100\n",
            "100/100 [==============================] - 1s 9ms/step - loss: 0.2702 - accuracy: 0.9191 - val_loss: 0.4753 - val_accuracy: 0.8610\n",
            "Epoch 12/100\n",
            "100/100 [==============================] - 1s 9ms/step - loss: 0.2186 - accuracy: 0.9266 - val_loss: 0.4123 - val_accuracy: 0.8900\n",
            "Epoch 13/100\n",
            "100/100 [==============================] - 1s 9ms/step - loss: 0.2006 - accuracy: 0.9370 - val_loss: 0.3757 - val_accuracy: 0.8960\n",
            "Epoch 14/100\n",
            "100/100 [==============================] - 1s 9ms/step - loss: 0.1709 - accuracy: 0.9475 - val_loss: 0.3993 - val_accuracy: 0.8990\n",
            "Epoch 15/100\n",
            "100/100 [==============================] - 1s 9ms/step - loss: 0.1312 - accuracy: 0.9548 - val_loss: 0.4255 - val_accuracy: 0.8940\n",
            "Epoch 16/100\n",
            "100/100 [==============================] - 1s 9ms/step - loss: 0.1587 - accuracy: 0.9555 - val_loss: 0.4265 - val_accuracy: 0.8920\n",
            "Epoch 17/100\n",
            "100/100 [==============================] - 1s 10ms/step - loss: 0.1363 - accuracy: 0.9600 - val_loss: 0.4072 - val_accuracy: 0.9110\n",
            "Epoch 18/100\n",
            "100/100 [==============================] - 1s 10ms/step - loss: 0.1108 - accuracy: 0.9675 - val_loss: 0.4227 - val_accuracy: 0.9070\n",
            "Epoch 19/100\n",
            "100/100 [==============================] - 1s 9ms/step - loss: 0.1047 - accuracy: 0.9695 - val_loss: 0.5071 - val_accuracy: 0.8970\n",
            "Epoch 20/100\n",
            "100/100 [==============================] - 1s 9ms/step - loss: 0.0679 - accuracy: 0.9779 - val_loss: 0.6425 - val_accuracy: 0.8880\n",
            "Epoch 21/100\n",
            "100/100 [==============================] - 1s 9ms/step - loss: 0.0995 - accuracy: 0.9693 - val_loss: 0.5159 - val_accuracy: 0.9000\n",
            "Epoch 22/100\n",
            "100/100 [==============================] - 1s 9ms/step - loss: 0.0963 - accuracy: 0.9735 - val_loss: 0.4321 - val_accuracy: 0.9090\n",
            "Epoch 23/100\n",
            "100/100 [==============================] - 1s 9ms/step - loss: 0.0700 - accuracy: 0.9780 - val_loss: 0.5333 - val_accuracy: 0.9070\n",
            "Epoch 24/100\n",
            "100/100 [==============================] - 1s 9ms/step - loss: 0.0726 - accuracy: 0.9825 - val_loss: 0.4787 - val_accuracy: 0.9100\n",
            "Epoch 25/100\n",
            "100/100 [==============================] - 1s 10ms/step - loss: 0.0640 - accuracy: 0.9819 - val_loss: 0.4243 - val_accuracy: 0.9140\n",
            "Epoch 26/100\n",
            "100/100 [==============================] - 1s 9ms/step - loss: 0.0676 - accuracy: 0.9795 - val_loss: 0.5393 - val_accuracy: 0.9090\n",
            "Epoch 27/100\n",
            "100/100 [==============================] - 1s 9ms/step - loss: 0.0519 - accuracy: 0.9825 - val_loss: 0.5824 - val_accuracy: 0.9060\n",
            "Epoch 28/100\n",
            "100/100 [==============================] - 1s 9ms/step - loss: 0.0548 - accuracy: 0.9884 - val_loss: 0.6710 - val_accuracy: 0.8950\n",
            "Epoch 29/100\n",
            "100/100 [==============================] - 1s 9ms/step - loss: 0.0594 - accuracy: 0.9819 - val_loss: 0.6989 - val_accuracy: 0.8940\n",
            "Epoch 30/100\n",
            "100/100 [==============================] - 1s 10ms/step - loss: 0.0654 - accuracy: 0.9810 - val_loss: 0.5543 - val_accuracy: 0.9120\n",
            "Epoch 31/100\n",
            "100/100 [==============================] - 1s 10ms/step - loss: 0.0568 - accuracy: 0.9824 - val_loss: 0.4615 - val_accuracy: 0.9210\n",
            "Epoch 32/100\n",
            "100/100 [==============================] - 1s 9ms/step - loss: 0.0536 - accuracy: 0.9829 - val_loss: 0.5513 - val_accuracy: 0.9120\n",
            "Epoch 33/100\n",
            "100/100 [==============================] - 1s 9ms/step - loss: 0.0341 - accuracy: 0.9910 - val_loss: 0.6282 - val_accuracy: 0.9230\n",
            "Epoch 34/100\n",
            "100/100 [==============================] - 1s 9ms/step - loss: 0.0622 - accuracy: 0.9884 - val_loss: 0.5625 - val_accuracy: 0.9200\n",
            "Epoch 35/100\n",
            "100/100 [==============================] - 1s 9ms/step - loss: 0.0594 - accuracy: 0.9845 - val_loss: 0.6368 - val_accuracy: 0.9190\n",
            "Epoch 36/100\n",
            "100/100 [==============================] - 1s 9ms/step - loss: 0.0585 - accuracy: 0.9874 - val_loss: 0.5112 - val_accuracy: 0.9160\n",
            "Epoch 37/100\n",
            "100/100 [==============================] - 1s 9ms/step - loss: 0.0446 - accuracy: 0.9870 - val_loss: 0.5403 - val_accuracy: 0.9230\n",
            "Epoch 38/100\n",
            "100/100 [==============================] - 1s 9ms/step - loss: 0.0479 - accuracy: 0.9875 - val_loss: 0.6793 - val_accuracy: 0.8930\n",
            "Epoch 39/100\n",
            "100/100 [==============================] - 1s 9ms/step - loss: 0.0391 - accuracy: 0.9910 - val_loss: 0.6991 - val_accuracy: 0.9160\n",
            "Epoch 40/100\n",
            "100/100 [==============================] - 1s 9ms/step - loss: 0.0412 - accuracy: 0.9905 - val_loss: 0.6991 - val_accuracy: 0.9120\n",
            "Epoch 41/100\n",
            "100/100 [==============================] - 1s 9ms/step - loss: 0.0371 - accuracy: 0.9905 - val_loss: 0.7054 - val_accuracy: 0.9130\n",
            "Epoch 42/100\n",
            "100/100 [==============================] - 1s 9ms/step - loss: 0.0319 - accuracy: 0.9915 - val_loss: 0.6782 - val_accuracy: 0.9170\n",
            "Epoch 43/100\n",
            "100/100 [==============================] - 1s 10ms/step - loss: 0.0217 - accuracy: 0.9930 - val_loss: 0.8955 - val_accuracy: 0.9210\n",
            "Epoch 44/100\n",
            "100/100 [==============================] - 1s 10ms/step - loss: 0.0382 - accuracy: 0.9910 - val_loss: 0.8959 - val_accuracy: 0.9240\n",
            "Epoch 45/100\n",
            "100/100 [==============================] - 1s 9ms/step - loss: 0.0395 - accuracy: 0.9930 - val_loss: 0.8401 - val_accuracy: 0.9190\n",
            "Epoch 46/100\n",
            "100/100 [==============================] - 1s 9ms/step - loss: 0.0388 - accuracy: 0.9930 - val_loss: 0.8738 - val_accuracy: 0.9150\n",
            "Epoch 47/100\n",
            "100/100 [==============================] - 1s 9ms/step - loss: 0.0153 - accuracy: 0.9940 - val_loss: 1.1524 - val_accuracy: 0.9150\n",
            "Epoch 48/100\n",
            "100/100 [==============================] - 1s 9ms/step - loss: 0.0611 - accuracy: 0.9905 - val_loss: 0.9740 - val_accuracy: 0.9200\n",
            "Epoch 49/100\n",
            "100/100 [==============================] - 1s 9ms/step - loss: 0.0782 - accuracy: 0.9840 - val_loss: 1.0349 - val_accuracy: 0.9040\n",
            "Epoch 50/100\n",
            "100/100 [==============================] - 1s 9ms/step - loss: 0.0606 - accuracy: 0.9879 - val_loss: 0.9068 - val_accuracy: 0.9090\n",
            "Epoch 51/100\n",
            "100/100 [==============================] - 1s 9ms/step - loss: 0.0290 - accuracy: 0.9910 - val_loss: 0.7779 - val_accuracy: 0.9240\n",
            "Epoch 52/100\n",
            "100/100 [==============================] - 1s 9ms/step - loss: 0.0421 - accuracy: 0.9910 - val_loss: 0.8901 - val_accuracy: 0.9120\n",
            "Epoch 53/100\n",
            "100/100 [==============================] - 1s 9ms/step - loss: 0.0389 - accuracy: 0.9905 - val_loss: 1.0432 - val_accuracy: 0.9120\n",
            "Epoch 54/100\n",
            "100/100 [==============================] - 1s 9ms/step - loss: 0.0388 - accuracy: 0.9925 - val_loss: 0.9455 - val_accuracy: 0.9040\n",
            "Epoch 55/100\n",
            "100/100 [==============================] - 1s 9ms/step - loss: 0.0378 - accuracy: 0.9940 - val_loss: 1.1404 - val_accuracy: 0.9130\n",
            "Epoch 56/100\n",
            "100/100 [==============================] - 1s 10ms/step - loss: 0.0218 - accuracy: 0.9950 - val_loss: 1.1247 - val_accuracy: 0.9150\n",
            "Epoch 57/100\n",
            "100/100 [==============================] - 1s 10ms/step - loss: 0.0493 - accuracy: 0.9920 - val_loss: 0.8427 - val_accuracy: 0.9240\n",
            "Epoch 58/100\n",
            "100/100 [==============================] - 1s 9ms/step - loss: 0.0300 - accuracy: 0.9955 - val_loss: 1.0554 - val_accuracy: 0.9120\n",
            "Epoch 59/100\n",
            "100/100 [==============================] - 1s 9ms/step - loss: 0.0307 - accuracy: 0.9910 - val_loss: 1.1309 - val_accuracy: 0.9160\n",
            "Epoch 60/100\n",
            "100/100 [==============================] - 1s 9ms/step - loss: 0.0280 - accuracy: 0.9945 - val_loss: 1.1730 - val_accuracy: 0.9140\n",
            "Epoch 61/100\n",
            "100/100 [==============================] - 1s 9ms/step - loss: 0.0317 - accuracy: 0.9930 - val_loss: 0.9031 - val_accuracy: 0.9170\n",
            "Epoch 62/100\n",
            "100/100 [==============================] - 1s 9ms/step - loss: 0.0478 - accuracy: 0.9920 - val_loss: 0.8561 - val_accuracy: 0.9030\n",
            "Epoch 63/100\n",
            "100/100 [==============================] - 1s 9ms/step - loss: 0.0632 - accuracy: 0.9860 - val_loss: 0.6914 - val_accuracy: 0.9170\n",
            "Epoch 64/100\n",
            "100/100 [==============================] - 1s 9ms/step - loss: 0.0366 - accuracy: 0.9915 - val_loss: 0.7323 - val_accuracy: 0.9240\n",
            "Epoch 65/100\n",
            "100/100 [==============================] - 1s 9ms/step - loss: 0.0275 - accuracy: 0.9935 - val_loss: 0.9927 - val_accuracy: 0.9050\n",
            "Epoch 66/100\n",
            "100/100 [==============================] - 1s 9ms/step - loss: 0.0263 - accuracy: 0.9955 - val_loss: 0.7125 - val_accuracy: 0.9260\n",
            "Epoch 67/100\n",
            "100/100 [==============================] - 1s 9ms/step - loss: 0.0301 - accuracy: 0.9940 - val_loss: 0.8795 - val_accuracy: 0.9220\n",
            "Epoch 68/100\n",
            "100/100 [==============================] - 1s 9ms/step - loss: 0.0220 - accuracy: 0.9965 - val_loss: 1.3813 - val_accuracy: 0.9130\n",
            "Epoch 69/100\n",
            "100/100 [==============================] - 1s 10ms/step - loss: 0.0253 - accuracy: 0.9960 - val_loss: 1.2518 - val_accuracy: 0.9080\n",
            "Epoch 70/100\n",
            "100/100 [==============================] - 1s 10ms/step - loss: 0.0321 - accuracy: 0.9930 - val_loss: 1.4282 - val_accuracy: 0.9180\n",
            "Epoch 71/100\n",
            "100/100 [==============================] - 1s 9ms/step - loss: 0.0195 - accuracy: 0.9960 - val_loss: 1.3335 - val_accuracy: 0.9100\n",
            "Epoch 72/100\n",
            "100/100 [==============================] - 1s 9ms/step - loss: 0.0450 - accuracy: 0.9910 - val_loss: 1.3592 - val_accuracy: 0.9110\n",
            "Epoch 73/100\n",
            "100/100 [==============================] - 1s 9ms/step - loss: 0.0598 - accuracy: 0.9935 - val_loss: 1.0130 - val_accuracy: 0.9200\n",
            "Epoch 74/100\n",
            "100/100 [==============================] - 1s 9ms/step - loss: 0.0492 - accuracy: 0.9920 - val_loss: 1.4783 - val_accuracy: 0.9140\n",
            "Epoch 75/100\n",
            "100/100 [==============================] - 1s 9ms/step - loss: 0.0558 - accuracy: 0.9915 - val_loss: 1.2900 - val_accuracy: 0.9080\n",
            "Epoch 76/100\n",
            "100/100 [==============================] - 1s 9ms/step - loss: 0.0355 - accuracy: 0.9915 - val_loss: 1.1171 - val_accuracy: 0.9120\n",
            "Epoch 77/100\n",
            "100/100 [==============================] - 1s 9ms/step - loss: 0.0368 - accuracy: 0.9935 - val_loss: 1.0861 - val_accuracy: 0.9230\n",
            "Epoch 78/100\n",
            "100/100 [==============================] - 1s 9ms/step - loss: 0.0419 - accuracy: 0.9930 - val_loss: 1.2483 - val_accuracy: 0.9170\n",
            "Epoch 79/100\n",
            "100/100 [==============================] - 1s 9ms/step - loss: 0.0277 - accuracy: 0.9955 - val_loss: 1.1458 - val_accuracy: 0.9150\n",
            "Epoch 80/100\n",
            "100/100 [==============================] - 1s 9ms/step - loss: 0.0194 - accuracy: 0.9960 - val_loss: 1.0214 - val_accuracy: 0.9140\n",
            "Epoch 81/100\n",
            "100/100 [==============================] - 1s 9ms/step - loss: 0.0281 - accuracy: 0.9950 - val_loss: 1.3670 - val_accuracy: 0.9080\n",
            "Epoch 82/100\n",
            "100/100 [==============================] - 1s 10ms/step - loss: 0.0491 - accuracy: 0.9920 - val_loss: 0.8929 - val_accuracy: 0.9230\n",
            "Epoch 83/100\n",
            "100/100 [==============================] - 1s 10ms/step - loss: 0.0099 - accuracy: 0.9985 - val_loss: 1.0032 - val_accuracy: 0.9200\n",
            "Epoch 84/100\n",
            "100/100 [==============================] - 1s 9ms/step - loss: 0.0186 - accuracy: 0.9960 - val_loss: 0.9972 - val_accuracy: 0.9180\n",
            "Epoch 85/100\n",
            "100/100 [==============================] - 1s 9ms/step - loss: 0.0240 - accuracy: 0.9950 - val_loss: 0.8857 - val_accuracy: 0.9160\n",
            "Epoch 86/100\n",
            "100/100 [==============================] - 1s 9ms/step - loss: 0.0391 - accuracy: 0.9930 - val_loss: 1.2905 - val_accuracy: 0.9130\n",
            "Epoch 87/100\n",
            "100/100 [==============================] - 1s 9ms/step - loss: 0.0162 - accuracy: 0.9960 - val_loss: 1.1297 - val_accuracy: 0.9240\n",
            "Epoch 88/100\n",
            "100/100 [==============================] - 1s 9ms/step - loss: 0.0269 - accuracy: 0.9950 - val_loss: 0.8610 - val_accuracy: 0.9220\n",
            "Epoch 89/100\n",
            "100/100 [==============================] - 1s 9ms/step - loss: 0.0298 - accuracy: 0.9925 - val_loss: 0.9993 - val_accuracy: 0.9260\n",
            "Epoch 90/100\n",
            "100/100 [==============================] - 1s 9ms/step - loss: 0.0266 - accuracy: 0.9955 - val_loss: 1.3698 - val_accuracy: 0.9110\n",
            "Epoch 91/100\n",
            "100/100 [==============================] - 1s 9ms/step - loss: 0.0240 - accuracy: 0.9940 - val_loss: 1.6644 - val_accuracy: 0.9130\n",
            "Epoch 92/100\n",
            "100/100 [==============================] - 1s 9ms/step - loss: 0.0539 - accuracy: 0.9945 - val_loss: 1.5672 - val_accuracy: 0.9170\n",
            "Epoch 93/100\n",
            "100/100 [==============================] - 1s 9ms/step - loss: 0.0484 - accuracy: 0.9890 - val_loss: 1.3169 - val_accuracy: 0.9200\n",
            "Epoch 94/100\n",
            "100/100 [==============================] - 1s 9ms/step - loss: 0.0346 - accuracy: 0.9940 - val_loss: 1.5795 - val_accuracy: 0.9070\n",
            "Epoch 95/100\n",
            "100/100 [==============================] - 1s 10ms/step - loss: 0.0312 - accuracy: 0.9955 - val_loss: 1.0499 - val_accuracy: 0.9140\n",
            "Epoch 96/100\n",
            "100/100 [==============================] - 1s 10ms/step - loss: 0.0536 - accuracy: 0.9930 - val_loss: 1.2891 - val_accuracy: 0.9120\n",
            "Epoch 97/100\n",
            "100/100 [==============================] - 1s 10ms/step - loss: 0.0097 - accuracy: 0.9985 - val_loss: 1.4419 - val_accuracy: 0.9100\n",
            "Epoch 98/100\n",
            "100/100 [==============================] - 1s 9ms/step - loss: 0.0274 - accuracy: 0.9965 - val_loss: 1.2461 - val_accuracy: 0.9150\n",
            "Epoch 99/100\n",
            "100/100 [==============================] - 1s 9ms/step - loss: 0.0448 - accuracy: 0.9960 - val_loss: 1.1737 - val_accuracy: 0.9220\n",
            "Epoch 100/100\n",
            "100/100 [==============================] - 1s 9ms/step - loss: 0.0433 - accuracy: 0.9940 - val_loss: 1.0181 - val_accuracy: 0.9140\n"
          ]
        }
      ],
      "source": [
        "history = model.fit_generator(\n",
        " train_generator,\n",
        " steps_per_epoch=100,\n",
        " epochs=100,\n",
        " validation_data=validation_generator,\n",
        " validation_steps=50)"
      ]
    },
    {
      "cell_type": "code",
      "execution_count": null,
      "metadata": {
        "colab": {
          "base_uri": "https://localhost:8080/"
        },
        "id": "hyNVJukU5L08",
        "outputId": "8d16e1bf-5fb7-467f-8742-3e0911923fb7"
      },
      "outputs": [
        {
          "output_type": "stream",
          "name": "stdout",
          "text": [
            "53/53 [==============================] - 0s 3ms/step - loss: 0.9747 - accuracy: 0.9065\n"
          ]
        }
      ],
      "source": [
        "# Evaluate the model using the test generator\n",
        "test_loss, test_accuracy = model.evaluate(test_generator)"
      ]
    },
    {
      "cell_type": "code",
      "execution_count": null,
      "metadata": {
        "id": "FLVlR4wd7C71"
      },
      "outputs": [],
      "source": [
        "# Save the model in HDF5 format\n",
        "model.save('CNN_callforhelp_ASL.h5')"
      ]
    },
    {
      "cell_type": "code",
      "execution_count": null,
      "metadata": {
        "colab": {
          "base_uri": "https://localhost:8080/"
        },
        "id": "mvJUSXv17syu",
        "outputId": "0a9973f2-66c2-4eef-86f1-9b30c746b37e"
      },
      "outputs": [
        {
          "name": "stdout",
          "output_type": "stream",
          "text": [
            "1/1 [==============================] - 0s 75ms/step\n",
            "Predicted class: 0\n"
          ]
        }
      ],
      "source": [
        "from tensorflow.keras.models import load_model\n",
        "from PIL import Image\n",
        "import numpy as np\n",
        "\n",
        "# Preprocess the input image\n",
        "image_path = '/content/drive/MyDrive/dataset3/help/bhelp_0_0.jpg'\n",
        "image = Image.open(image_path)\n",
        "image = image.resize((64, 64))\n",
        "image_array = np.array(image) / 255.0\n",
        "image_array = np.expand_dims(image_array, axis=0)\n",
        "\n",
        "# Load the saved model\n",
        "model = load_model('CNN_callforhelp_ASL.h5')\n",
        "\n",
        "predictions = model.predict(image_array)\n",
        "predicted_class = np.argmax(predictions)\n",
        "\n",
        "# Print the predicted class\n",
        "print(\"Predicted class:\", predicted_class)"
      ]
    },
    {
      "cell_type": "code",
      "execution_count": null,
      "metadata": {
        "colab": {
          "base_uri": "https://localhost:8080/"
        },
        "id": "-_mpGLAh9OkF",
        "outputId": "e6c95d6d-64ea-448b-aa12-44a336861f1a"
      },
      "outputs": [
        {
          "name": "stderr",
          "output_type": "stream",
          "text": [
            "WARNING:tensorflow:5 out of the last 5 calls to <function Model.make_predict_function.<locals>.predict_function at 0x7a3d56f33910> triggered tf.function retracing. Tracing is expensive and the excessive number of tracings could be due to (1) creating @tf.function repeatedly in a loop, (2) passing tensors with different shapes, (3) passing Python objects instead of tensors. For (1), please define your @tf.function outside of the loop. For (2), @tf.function has reduce_retracing=True option that can avoid unnecessary retracing. For (3), please refer to https://www.tensorflow.org/guide/function#controlling_retracing and https://www.tensorflow.org/api_docs/python/tf/function for  more details.\n"
          ]
        },
        {
          "name": "stdout",
          "output_type": "stream",
          "text": [
            "1/1 [==============================] - 0s 96ms/step\n",
            "Predicted class: 5\n"
          ]
        }
      ],
      "source": [
        "from tensorflow.keras.models import load_model\n",
        "from PIL import Image\n",
        "import numpy as np\n",
        "\n",
        "# Preprocess the input image\n",
        "image_path = '/content/drive/MyDrive/Capture1.JPG'\n",
        "image = Image.open(image_path)\n",
        "image = image.resize((64, 64))\n",
        "image_array = np.array(image) / 255.0\n",
        "image_array = np.expand_dims(image_array, axis=0)\n",
        "\n",
        "# Load the saved model\n",
        "model = load_model('CNN_callforhelp_ASL.h5')\n",
        "\n",
        "# Perform inference on the input image\n",
        "predictions = model.predict(image_array)\n",
        "predicted_class = np.argmax(predictions)\n",
        "\n",
        "# Print the predicted class\n",
        "print(\"Predicted class:\", predicted_class)"
      ]
    }
  ],
  "metadata": {
    "accelerator": "GPU",
    "colab": {
      "machine_shape": "hm",
      "provenance": [],
      "mount_file_id": "19_LFCx6p4ybOJwLNufSP4cfZMayg3F6w",
      "authorship_tag": "ABX9TyP0SP/JGaWfEEK24C5N7BQn",
      "include_colab_link": true
    },
    "kernelspec": {
      "display_name": "Python 3",
      "name": "python3"
    },
    "language_info": {
      "name": "python"
    }
  },
  "nbformat": 4,
  "nbformat_minor": 0
}